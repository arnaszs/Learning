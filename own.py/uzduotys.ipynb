{
 "cells": [
  {
   "cell_type": "code",
   "execution_count": null,
   "metadata": {},
   "outputs": [],
   "source": [
    "print(\"Sveiki atvykę į interaktyvų skaičiuotuvą!\")\n",
    "print(\"Pasirinkite veiksmą, kuriuo norite atlikti su dviem skaičiais:\")\n",
    "print(\"1 - Sudėtis\")\n",
    "print(\"2 - Atimtis\")\n",
    "print(\"3 - Daugyba\")\n",
    "print(\"4 - Dalyba\")\n",
    "\n",
    "choice = input(\"Įveskite savo pasirinkimą (1-4): \")\n",
    "num1 = float(input(\"Įveskite pirmąjį skaičių: \"))\n",
    "num2 = float(input(\"Įveskite antrąjį skaičių: \"))\n",
    "\n",
    "if choice == '1':\n",
    "    result = num1 + num2\n",
    "    print(\"Rezultatas: \", result)\n",
    "elif choice == '2':\n",
    "    result = num1 - num2\n",
    "    print(\"Rezultatas: \", result)\n",
    "elif choice == '3':\n",
    "    result = num1 * num2\n",
    "    print(\"Rezultatas: \", result)\n",
    "elif choice == '4':\n",
    "    result = num1 / num2\n",
    "    print(\"Rezultatas: \", result)\n",
    "else:\n",
    "    print(\"Netinkamas pasirinkimas\")"
   ]
  }
 ],
 "metadata": {
  "language_info": {
   "name": "python"
  },
  "orig_nbformat": 4
 },
 "nbformat": 4,
 "nbformat_minor": 2
}
