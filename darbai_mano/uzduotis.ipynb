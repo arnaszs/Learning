{
 "cells": [
  {
   "attachments": {},
   "cell_type": "markdown",
   "metadata": {},
   "source": [
    "## Pradzia"
   ]
  },
  {
   "cell_type": "code",
   "execution_count": 39,
   "metadata": {},
   "outputs": [
    {
     "name": "stdout",
     "output_type": "stream",
     "text": [
      "AS ESU STUDENTAS\n"
     ]
    }
   ],
   "source": [
    "pasisveikinimas = \"As esu studentas\"\n",
    "print(pasisveikinimas.upper())"
   ]
  },
  {
   "cell_type": "code",
   "execution_count": 40,
   "metadata": {},
   "outputs": [
    {
     "name": "stdout",
     "output_type": "stream",
     "text": [
      "as esu studentas\n"
     ]
    }
   ],
   "source": [
    "pasisveikinimas = \"As esu studentas\"\n",
    "print(pasisveikinimas.lower())"
   ]
  },
  {
   "cell_type": "code",
   "execution_count": 41,
   "metadata": {},
   "outputs": [
    {
     "name": "stdout",
     "output_type": "stream",
     "text": [
      "apelsinas, obuolys\n"
     ]
    }
   ],
   "source": [
    "vaisiai = (\"apelsinas\", \"obuolys\")\n",
    "isvardinti = \", \".join(vaisiai)\n",
    "print(isvardinti)"
   ]
  },
  {
   "cell_type": "code",
   "execution_count": 42,
   "metadata": {},
   "outputs": [
    {
     "name": "stdout",
     "output_type": "stream",
     "text": [
      "['As', 'esu', 'studentas']\n"
     ]
    }
   ],
   "source": [
    "pasisveikinimas = \"As esu studentas\"\n",
    "print(pasisveikinimas.split())\n"
   ]
  },
  {
   "cell_type": "code",
   "execution_count": 43,
   "metadata": {},
   "outputs": [
    {
     "name": "stdout",
     "output_type": "stream",
     "text": [
      "7\n"
     ]
    }
   ],
   "source": [
    "pasisveikinimas = \"As esu studentas\"\n",
    "print(pasisveikinimas.find('studentas'))"
   ]
  },
  {
   "cell_type": "code",
   "execution_count": 44,
   "metadata": {},
   "outputs": [
    {
     "name": "stdout",
     "output_type": "stream",
     "text": [
      "As busiu studentas\n"
     ]
    }
   ],
   "source": [
    "pasisveikinimas = \"As esu studentas\"\n",
    "print(pasisveikinimas.replace('esu', 'busiu'))"
   ]
  },
  {
   "attachments": {},
   "cell_type": "markdown",
   "metadata": {},
   "source": [
    "## Teksto formatavimas"
   ]
  },
  {
   "cell_type": "code",
   "execution_count": 45,
   "metadata": {},
   "outputs": [
    {
     "name": "stdout",
     "output_type": "stream",
     "text": [
      "Sveiki aš esu Arnas, man yra 21metai\n"
     ]
    }
   ],
   "source": [
    "vardas = \"Arnas\"\n",
    "amzius = 21\n",
    "tekstas = \"Sveiki aš \" \"esu \" \\\n",
    "    + vardas + \\\n",
    "    \", man yra \" + str(amzius) + 'metai'\n",
    "print(tekstas)"
   ]
  },
  {
   "cell_type": "code",
   "execution_count": 46,
   "metadata": {},
   "outputs": [
    {
     "name": "stdout",
     "output_type": "stream",
     "text": [
      "Sveiki, as esu Arnas ir man yra 21 metu\n"
     ]
    }
   ],
   "source": [
    "vardas = \"Arnas\"\n",
    "amzius = 21\n",
    "tekstas = \"Sveiki, as esu %s ir man yra %d metu\" % (vardas, amzius)\n",
    "print(tekstas)"
   ]
  },
  {
   "cell_type": "code",
   "execution_count": 47,
   "metadata": {},
   "outputs": [
    {
     "name": "stdout",
     "output_type": "stream",
     "text": [
      "Sveiki, aš esu Arnas, man yra 21 metų\n"
     ]
    }
   ],
   "source": [
    "tekstas = \"Sveiki, aš esu {}, man yra {} metų\".format(vardas, amzius)\n",
    "print(tekstas)"
   ]
  },
  {
   "cell_type": "code",
   "execution_count": 48,
   "metadata": {},
   "outputs": [
    {
     "name": "stdout",
     "output_type": "stream",
     "text": [
      "sveiki, as esu Arnas, man yra 21 metu\n"
     ]
    }
   ],
   "source": [
    "tekstas = f\"sveiki, as esu {vardas}, man yra {amzius} metu\"\n",
    "print(tekstas)"
   ]
  },
  {
   "cell_type": "code",
   "execution_count": 49,
   "metadata": {},
   "outputs": [
    {
     "name": "stdout",
     "output_type": "stream",
     "text": [
      "kaina: 99.95\n"
     ]
    }
   ],
   "source": [
    "kaina = 99.9455\n",
    "print(f\"kaina: {kaina:.2f}\")"
   ]
  },
  {
   "cell_type": "code",
   "execution_count": 50,
   "metadata": {},
   "outputs": [
    {
     "name": "stdout",
     "output_type": "stream",
     "text": [
      "kaina: 0000000100\n",
      "kaina:        100\n",
      "kaina: 100\n"
     ]
    }
   ],
   "source": [
    "print(f\"kaina: {kaina:010.0f}\")\n",
    "print(f\"kaina: {kaina:10.0f}\")\n",
    "print(f\"kaina: {kaina:0.0f}\")"
   ]
  },
  {
   "attachments": {},
   "cell_type": "markdown",
   "metadata": {},
   "source": [
    "## uzduotis sarasai"
   ]
  },
  {
   "cell_type": "code",
   "execution_count": 51,
   "metadata": {},
   "outputs": [
    {
     "name": "stdout",
     "output_type": "stream",
     "text": [
      "guliasas\n"
     ]
    }
   ],
   "source": [
    "sarasas = [\"pica\", \"obuolys\", \"burgeris\", \"kotletas\", \"makaronai\", \"guliasas\"]\n",
    "print(sarasas[-1])"
   ]
  },
  {
   "cell_type": "code",
   "execution_count": 52,
   "metadata": {},
   "outputs": [
    {
     "name": "stdout",
     "output_type": "stream",
     "text": [
      "['pica', 'obuolys', 'burgeris']\n",
      "['makaronai', 'guliasas']\n",
      "['obuolys', 'burgeris', 'kotletas']\n",
      "['pica', 'burgeris', 'makaronai']\n"
     ]
    }
   ],
   "source": [
    "print(sarasas[:3])\n",
    "print(sarasas[-2:])\n",
    "print(sarasas[1:4])\n",
    "print(sarasas[::2])"
   ]
  },
  {
   "cell_type": "code",
   "execution_count": 53,
   "metadata": {},
   "outputs": [],
   "source": [
    "sarasas.append(\"suris\")"
   ]
  },
  {
   "cell_type": "code",
   "execution_count": 54,
   "metadata": {},
   "outputs": [
    {
     "name": "stdout",
     "output_type": "stream",
     "text": [
      "['pica', 'obuolys', 'burgeris', 'kotletas', 'makaronai', 'guliasas', 'suris']\n"
     ]
    }
   ],
   "source": [
    "print(sarasas)"
   ]
  },
  {
   "cell_type": "code",
   "execution_count": 55,
   "metadata": {},
   "outputs": [
    {
     "ename": "ValueError",
     "evalue": "list.remove(x): x not in list",
     "output_type": "error",
     "traceback": [
      "\u001b[1;31m---------------------------------------------------------------------------\u001b[0m",
      "\u001b[1;31mValueError\u001b[0m                                Traceback (most recent call last)",
      "Cell \u001b[1;32mIn[55], line 1\u001b[0m\n\u001b[1;32m----> 1\u001b[0m sarasas\u001b[39m.\u001b[39;49mremove(\u001b[39m'\u001b[39;49m\u001b[39msultys\u001b[39;49m\u001b[39m'\u001b[39;49m)\n\u001b[0;32m      2\u001b[0m \u001b[39mprint\u001b[39m(sarasas)\n",
      "\u001b[1;31mValueError\u001b[0m: list.remove(x): x not in list"
     ]
    }
   ],
   "source": [
    "sarasas.remove('sultys')\n",
    "print(sarasas)"
   ]
  },
  {
   "cell_type": "code",
   "execution_count": null,
   "metadata": {},
   "outputs": [
    {
     "name": "stdout",
     "output_type": "stream",
     "text": [
      "4\n"
     ]
    }
   ],
   "source": [
    "kur_makaronai = sarasas.index(\"makaronai\")\n",
    "print(kur_makaronai)"
   ]
  },
  {
   "cell_type": "code",
   "execution_count": null,
   "metadata": {},
   "outputs": [
    {
     "name": "stdout",
     "output_type": "stream",
     "text": [
      "['s', 's', 'a', 's', 'a', 'i', 'l', 'u', 'g', 's', 's', 'a', 's', 'a', 'i', 'l', 'u', 'g', 'guliasas', 'makaronai', 'kotletas', 'sultys', 'burgeris', 'obuolys']\n"
     ]
    }
   ],
   "source": [
    "sarasas.reverse()\n",
    "print(sarasas)"
   ]
  },
  {
   "cell_type": "code",
   "execution_count": null,
   "metadata": {},
   "outputs": [
    {
     "name": "stdout",
     "output_type": "stream",
     "text": [
      "24\n"
     ]
    }
   ],
   "source": [
    "print(len(sarasas))"
   ]
  },
  {
   "cell_type": "code",
   "execution_count": null,
   "metadata": {},
   "outputs": [
    {
     "name": "stdout",
     "output_type": "stream",
     "text": [
      "False\n"
     ]
    }
   ],
   "source": [
    "print(\"apelsinas\" in sarasas)"
   ]
  },
  {
   "attachments": {},
   "cell_type": "markdown",
   "metadata": {},
   "source": [
    "## Zodynai"
   ]
  },
  {
   "cell_type": "code",
   "execution_count": null,
   "metadata": {},
   "outputs": [
    {
     "name": "stdout",
     "output_type": "stream",
     "text": [
      "{'Reksas': 4, 'Bingo': 5, 'Grantas': 1}\n"
     ]
    }
   ],
   "source": [
    "zodynas = {'Reksas': 4, 'Bingo': 5, 'Grantas': 1}\n",
    "print(zodynas)"
   ]
  },
  {
   "cell_type": "code",
   "execution_count": null,
   "metadata": {},
   "outputs": [
    {
     "name": "stdout",
     "output_type": "stream",
     "text": [
      "5\n"
     ]
    }
   ],
   "source": [
    "print(zodynas['Bingo'])"
   ]
  },
  {
   "cell_type": "code",
   "execution_count": null,
   "metadata": {},
   "outputs": [
    {
     "name": "stdout",
     "output_type": "stream",
     "text": [
      "{'Reksas': 4, 'Bingo': 5, 'Grantas': 1, 'Sniegius': 2}\n"
     ]
    }
   ],
   "source": [
    "zodynas['Sniegius'] = 2\n",
    "print(zodynas)"
   ]
  },
  {
   "cell_type": "code",
   "execution_count": null,
   "metadata": {},
   "outputs": [
    {
     "name": "stdout",
     "output_type": "stream",
     "text": [
      "{'Reksas': 4, 'Bingo': 4, 'Grantas': 1, 'Sniegius': 2}\n"
     ]
    }
   ],
   "source": [
    "zodynas['Bingo'] = 4\n",
    "print(zodynas)"
   ]
  },
  {
   "cell_type": "code",
   "execution_count": null,
   "metadata": {},
   "outputs": [
    {
     "name": "stdout",
     "output_type": "stream",
     "text": [
      "{'Bingo': 4, 'Grantas': 1, 'Sniegius': 2}\n"
     ]
    }
   ],
   "source": [
    "del zodynas['Reksas']\n",
    "print(zodynas)"
   ]
  },
  {
   "cell_type": "code",
   "execution_count": null,
   "metadata": {},
   "outputs": [
    {
     "name": "stdout",
     "output_type": "stream",
     "text": [
      "dict_keys(['Bingo', 'Grantas', 'Sniegius'])\n",
      "dict_values([4, 1, 2])\n"
     ]
    }
   ],
   "source": [
    "vardai = zodynas.keys()\n",
    "print(vardai)\n",
    "amzius = zodynas.values()\n",
    "print(amzius)"
   ]
  },
  {
   "cell_type": "code",
   "execution_count": null,
   "metadata": {},
   "outputs": [
    {
     "name": "stdout",
     "output_type": "stream",
     "text": [
      "dict_items([('Bingo', 4), ('Grantas', 1), ('Sniegius', 2)])\n",
      "1\n"
     ]
    }
   ],
   "source": [
    "augintiniu_sarasas = zodynas.items()\n",
    "print(augintiniu_sarasas)\n",
    "suo = zodynas.get('Grantas')\n",
    "print(suo)"
   ]
  },
  {
   "attachments": {},
   "cell_type": "markdown",
   "metadata": {},
   "source": [
    "## For ciklai\n"
   ]
  },
  {
   "cell_type": "code",
   "execution_count": null,
   "metadata": {},
   "outputs": [
    {
     "name": "stdout",
     "output_type": "stream",
     "text": [
      "A\n",
      "B\n",
      "C\n",
      "D\n",
      "E\n",
      "F\n"
     ]
    }
   ],
   "source": [
    "sarasas = list('ABCDEF')\n",
    "for raide in sarasas:\n",
    "    print(raide)"
   ]
  },
  {
   "cell_type": "code",
   "execution_count": null,
   "metadata": {},
   "outputs": [
    {
     "name": "stdout",
     "output_type": "stream",
     "text": [
      "1: , simbolių kiekis: 0\n",
      "2: , simbolių kiekis: 0\n",
      "3: , simbolių kiekis: 0\n",
      "4: , simbolių kiekis: 0\n",
      "5: , simbolių kiekis: 0\n",
      "Žodžių kiekis: 5\n"
     ]
    }
   ],
   "source": [
    "zodziai = []\n",
    "\n",
    "for zodis in range(5):\n",
    "    zodziai.append(input('Įveskite žodį: '))\n",
    "\n",
    "for numeris, zodis in enumerate(zodziai):\n",
    "    print(f'{numeris + 1}: {zodis}, simbolių kiekis: {len(zodis)}')\n",
    "print('Žodžių kiekis:', len(zodziai))"
   ]
  },
  {
   "cell_type": "code",
   "execution_count": null,
   "metadata": {},
   "outputs": [
    {
     "name": "stdout",
     "output_type": "stream",
     "text": [
      "Keliamieji metai\n"
     ]
    }
   ],
   "source": [
    "metai = int(input('Įveskite metus: '))\n",
    "if (metai % 400 == 0) or (metai % 100 != 0 and metai % 4 == 0):\n",
    "    print('Keliamieji metai')\n",
    "else:\n",
    "    print('Nekeliamieji metai')"
   ]
  },
  {
   "cell_type": "code",
   "execution_count": null,
   "metadata": {},
   "outputs": [
    {
     "name": "stdout",
     "output_type": "stream",
     "text": [
      "2000\n",
      "2004\n",
      "2008\n",
      "2012\n",
      "2016\n",
      "2020\n",
      "2024\n",
      "2028\n",
      "2032\n",
      "2036\n",
      "2040\n",
      "2044\n",
      "2048\n",
      "2052\n",
      "2056\n",
      "2060\n",
      "2064\n",
      "2068\n",
      "2072\n",
      "2076\n",
      "2080\n",
      "2084\n",
      "2088\n",
      "2092\n",
      "2096\n"
     ]
    }
   ],
   "source": [
    "for metai in range(2000, 2100):\n",
    "    if metai % 400 == 0:\n",
    "        print(metai)\n",
    "    elif metai % 100 == 0:\n",
    "        continue\n",
    "    elif metai % 4 == 0:\n",
    "        print(metai)\n",
    "    else:\n",
    "        continue"
   ]
  },
  {
   "cell_type": "markdown",
   "metadata": {},
   "source": []
  },
  {
   "attachments": {},
   "cell_type": "markdown",
   "metadata": {},
   "source": [
    "## While ciklai"
   ]
  },
  {
   "cell_type": "code",
   "execution_count": null,
   "metadata": {},
   "outputs": [
    {
     "name": "stdout",
     "output_type": "stream",
     "text": [
      "10\n",
      "9\n",
      "8\n",
      "7\n",
      "6\n",
      "5\n",
      "4\n",
      "3\n",
      "2\n",
      "1\n",
      "0\n",
      "-1\n"
     ]
    }
   ],
   "source": [
    "8 = 10\n",
    "while 8 >= -1:\n",
    "    print(8)\n",
    "    8 -=1"
   ]
  },
  {
   "cell_type": "code",
   "execution_count": null,
   "metadata": {},
   "outputs": [
    {
     "name": "stdout",
     "output_type": "stream",
     "text": [
      "4\n",
      "3\n",
      "2\n",
      "1\n",
      "Pratęsiam ciklą nes yra skaičius 0\n",
      "-1\n",
      "-2\n",
      "-3\n",
      "-4\n",
      "Sustabdom ciklą nes yra skaičius -5\n"
     ]
    }
   ],
   "source": [
    "8 = 5\n",
    "while 8 >= -10:\n",
    "    8 -= 1\n",
    "    if 8 == -5:\n",
    "        print('Sustabdom ciklą nes yra skaičius -5')\n",
    "        break\n",
    "    elif 8 == 0:\n",
    "        print('Pratęsiam ciklą nes yra skaičius 0')\n",
    "        continue\n",
    "    print(8)"
   ]
  },
  {
   "cell_type": "code",
   "execution_count": null,
   "metadata": {
    "tags": []
   },
   "outputs": [
    {
     "name": "stdout",
     "output_type": "stream",
     "text": [
      "2\n",
      "7\n",
      "14\n",
      "16\n"
     ]
    },
    {
     "ename": "ValueError",
     "evalue": "invalid literal for int() with base 10: ''",
     "output_type": "error",
     "traceback": [
      "\u001b[1;31m---------------------------------------------------------------------------\u001b[0m",
      "\u001b[1;31mValueError\u001b[0m                                Traceback (most recent call last)",
      "Cell \u001b[1;32mIn[29], line 4\u001b[0m\n\u001b[0;32m      1\u001b[0m skaiciai \u001b[39m=\u001b[39m \u001b[39m0\u001b[39m\n\u001b[0;32m      3\u001b[0m \u001b[39mwhile\u001b[39;00m \u001b[39mTrue\u001b[39;00m:\n\u001b[1;32m----> 4\u001b[0m     skaicius \u001b[39m=\u001b[39m \u001b[39mint\u001b[39;49m(\u001b[39minput\u001b[39;49m(\u001b[39m'\u001b[39;49m\u001b[39mĮveskite skaičių: \u001b[39;49m\u001b[39m'\u001b[39;49m))\n\u001b[0;32m      5\u001b[0m     \u001b[39mif\u001b[39;00m skaicius \u001b[39m<\u001b[39m \u001b[39m0\u001b[39m:\n\u001b[0;32m      6\u001b[0m         \u001b[39mbreak\u001b[39;00m\n",
      "\u001b[1;31mValueError\u001b[0m: invalid literal for int() with base 10: ''"
     ]
    }
   ],
   "source": [
    "skaiciai = 0\n",
    "\n",
    "while True:\n",
    "    8 = int(input('Įveskite skaičių: '))\n",
    "    if 8 < 0:\n",
    "        break\n",
    "    skaiciai += 8\n",
    "    print(skaiciai)\n"
   ]
  },
  {
   "attachments": {},
   "cell_type": "markdown",
   "metadata": {},
   "source": [
    "## Tuples\n"
   ]
  },
  {
   "cell_type": "code",
   "execution_count": null,
   "metadata": {},
   "outputs": [
    {
     "name": "stdout",
     "output_type": "stream",
     "text": [
      "('ACDC', 'Capaldi', 'chop suey', 'rammstein')\n"
     ]
    }
   ],
   "source": [
    "tuples = ('ACDC', 'Capaldi', 'chop suey', 'rammstein')\n",
    "print(tuples)"
   ]
  },
  {
   "cell_type": "code",
   "execution_count": null,
   "metadata": {},
   "outputs": [
    {
     "name": "stdout",
     "output_type": "stream",
     "text": [
      "('ACDC', 'Capaldi', 'chop suey', 'rammstein', 'Eminem', '50 Cent', 'Jean Marc')\n"
     ]
    }
   ],
   "source": [
    "tuples2 = ('Eminem', '50 Cent', 'Jean Marc')\n",
    "grupes = tuples + tuples2\n",
    "print(grupes)"
   ]
  },
  {
   "cell_type": "code",
   "execution_count": null,
   "metadata": {},
   "outputs": [
    {
     "name": "stdout",
     "output_type": "stream",
     "text": [
      "ACDC\n",
      "chop suey\n",
      "Jean Marc\n"
     ]
    }
   ],
   "source": [
    "print(grupes[0])\n",
    "print(grupes[2])\n",
    "print(grupes[-1])"
   ]
  },
  {
   "cell_type": "code",
   "execution_count": null,
   "metadata": {},
   "outputs": [
    {
     "name": "stdout",
     "output_type": "stream",
     "text": [
      "('ACDC', 'chop suey', 'Eminem', 'Jean Marc')\n"
     ]
    }
   ],
   "source": [
    "print(grupes[::2])"
   ]
  },
  {
   "cell_type": "code",
   "execution_count": null,
   "metadata": {},
   "outputs": [
    {
     "name": "stdout",
     "output_type": "stream",
     "text": [
      "1\n",
      "0\n"
     ]
    }
   ],
   "source": [
    "print(grupes.count('Eminem'))\n",
    "indeksas = grupes.index('ACDC')\n",
    "print(indeksas)"
   ]
  },
  {
   "cell_type": "code",
   "execution_count": null,
   "metadata": {},
   "outputs": [
    {
     "name": "stdout",
     "output_type": "stream",
     "text": [
      "False\n"
     ]
    }
   ],
   "source": [
    "print('Cooper' in grupes)"
   ]
  },
  {
   "cell_type": "code",
   "execution_count": null,
   "metadata": {},
   "outputs": [
    {
     "name": "stdout",
     "output_type": "stream",
     "text": [
      "Eminem\n",
      "Capaldi\n",
      "rammstein\n",
      "ACDC\n",
      "50 Cent\n",
      "Jean Marc\n",
      "chop suey\n"
     ]
    }
   ],
   "source": [
    "bonus = tuple(set(grupes))\n",
    "\n",
    "for grupe in bonus:\n",
    "    print(grupe)"
   ]
  },
  {
   "attachments": {},
   "cell_type": "markdown",
   "metadata": {},
   "source": [
    "## Aibes"
   ]
  },
  {
   "cell_type": "code",
   "execution_count": null,
   "metadata": {},
   "outputs": [
    {
     "name": "stdout",
     "output_type": "stream",
     "text": [
      "{1, 2, 3, 4, 5, 6, 7, 8, 9}\n"
     ]
    }
   ],
   "source": [
    "aibe = {1, 2, 3, 4, 5, 6, 7, 8}\n",
    "aibe.add(9)\n",
    "print(aibe)"
   ]
  },
  {
   "cell_type": "code",
   "execution_count": null,
   "metadata": {},
   "outputs": [
    {
     "name": "stdout",
     "output_type": "stream",
     "text": [
      "{54, 8, 9, 11, 62, 15}\n"
     ]
    }
   ],
   "source": [
    "aibe1 = {1, 8, 9, 11, 54, 15, 62}\n",
    "aibe1.remove(1)\n",
    "print(aibe1)"
   ]
  },
  {
   "cell_type": "code",
   "execution_count": null,
   "metadata": {},
   "outputs": [
    {
     "name": "stdout",
     "output_type": "stream",
     "text": [
      "{8, 9}\n"
     ]
    }
   ],
   "source": [
    "abi_aibes = aibe.intersection(aibe1)\n",
    "print(abi_aibes)"
   ]
  },
  {
   "cell_type": "code",
   "execution_count": null,
   "metadata": {},
   "outputs": [
    {
     "name": "stdout",
     "output_type": "stream",
     "text": [
      "{1, 2, 3, 4, 5, 6, 7}\n"
     ]
    }
   ],
   "source": [
    "nauja = aibe.difference(aibe1)\n",
    "print(nauja)"
   ]
  },
  {
   "cell_type": "code",
   "execution_count": null,
   "metadata": {},
   "outputs": [
    {
     "name": "stdout",
     "output_type": "stream",
     "text": [
      "{62, 11, 54, 15}\n"
     ]
    }
   ],
   "source": [
    "nauja1 = aibe1.difference(aibe)\n",
    "print(nauja1)"
   ]
  },
  {
   "cell_type": "code",
   "execution_count": null,
   "metadata": {},
   "outputs": [
    {
     "name": "stdout",
     "output_type": "stream",
     "text": [
      "{2916, 121, 3844, 225}\n"
     ]
    }
   ],
   "source": [
    "nauja_kvadratu = {x**2 for x in nauja1}\n",
    "print(nauja_kvadratu)"
   ]
  },
  {
   "cell_type": "markdown",
   "metadata": {},
   "source": []
  },
  {
   "cell_type": "code",
   "execution_count": null,
   "metadata": {},
   "outputs": [
    {
     "ename": "SyntaxError",
     "evalue": "(unicode error) 'unicodeescape' codec can't decode bytes in position 0-1: truncated \\UXXXXXXXX escape (3430644149.py, line 1)",
     "output_type": "error",
     "traceback": [
      "\u001b[1;36m  Cell \u001b[1;32mIn[58], line 1\u001b[1;36m\u001b[0m\n\u001b[1;33m    simboliai = [\"\\U+1F0A1:\\U+1F0AE\"]\u001b[0m\n\u001b[1;37m                                    ^\u001b[0m\n\u001b[1;31mSyntaxError\u001b[0m\u001b[1;31m:\u001b[0m (unicode error) 'unicodeescape' codec can't decode bytes in position 0-1: truncated \\UXXXXXXXX escape\n"
     ]
    }
   ],
   "source": []
  },
  {
   "attachments": {},
   "cell_type": "markdown",
   "metadata": {},
   "source": [
    "## funkcijos"
   ]
  },
  {
   "cell_type": "code",
   "execution_count": null,
   "metadata": {},
   "outputs": [
    {
     "name": "stdout",
     "output_type": "stream",
     "text": [
      "Įvestas skaičius yra nelyginis\n"
     ]
    }
   ],
   "source": [
    "def lyginis_nelyginis(skaicius):\n",
    "    if skaicius % 2 == 0:\n",
    "        print(\"Įvestas skaičius yra lyginis\")\n",
    "    else:\n",
    "        print(\"Įvestas skaičius yra nelyginis\") \n",
    "lyginis_nelyginis(7)"
   ]
  },
  {
   "cell_type": "code",
   "execution_count": null,
   "metadata": {},
   "outputs": [
    {
     "name": "stdout",
     "output_type": "stream",
     "text": [
      "skaicius yra teigiamas\n"
     ]
    }
   ],
   "source": [
    "def ar_teigiamas(skaicius):\n",
    "    if skaicius > 0:\n",
    "        print(\"skaicius yra teigiamas\")\n",
    "    else:\n",
    "        print('skaicius nera teigiamas')\n",
    "ar_teigiamas(8)"
   ]
  },
  {
   "cell_type": "code",
   "execution_count": null,
   "metadata": {},
   "outputs": [
    {
     "name": "stdout",
     "output_type": "stream",
     "text": [
      "Įvestas skaičius nėra didesnis nei 100.\n"
     ]
    }
   ],
   "source": [
    "def ar_daugiau_nei(skaicius, riba):\n",
    "    if skaicius > riba:\n",
    "        print(f\"Įvestas skaičius yra didesnis nei {riba}.\")\n",
    "    else:\n",
    "        print(f\"Įvestas skaičius nėra didesnis nei {riba}.\")\n",
    "ar_daugiau_nei(17, 100)\n"
   ]
  },
  {
   "attachments": {},
   "cell_type": "markdown",
   "metadata": {},
   "source": [
    "## return"
   ]
  },
  {
   "cell_type": "code",
   "execution_count": null,
   "metadata": {},
   "outputs": [
    {
     "data": {
      "text/plain": [
       "'syloubo'"
      ]
     },
     "execution_count": 20,
     "metadata": {},
     "output_type": "execute_result"
    }
   ],
   "source": [
    "def sarasas_atbulai(sarasas):\n",
    "    return sarasas[::-1]\n",
    "sarasas_atbulai('obuolys')\n"
   ]
  },
  {
   "cell_type": "code",
   "execution_count": null,
   "metadata": {},
   "outputs": [
    {
     "name": "stdout",
     "output_type": "stream",
     "text": [
      "6.0\n"
     ]
    }
   ],
   "source": [
    "def trikampio_plotas(a, b, c):\n",
    "    s = (a + b + c) / 2\n",
    "    plotas = (s * (s - a) * (s - b) * (s - c)) ** 0.5\n",
    "    return plotas\n",
    "\n",
    "a = 3\n",
    "b = 4\n",
    "c = 5\n",
    "trikampio_plotas = trikampio_plotas(a, b, c)\n",
    "print(trikampio_plotas)"
   ]
  },
  {
   "cell_type": "code",
   "execution_count": null,
   "metadata": {},
   "outputs": [
    {
     "name": "stdout",
     "output_type": "stream",
     "text": [
      "['Labas']\n"
     ]
    }
   ],
   "source": [
    "def sarasas_zodziu(sakinys, ilgis):\n",
    "    zodziai = sakinys.split()\n",
    "    ilgio_zodziai = []\n",
    "    for zodis in zodziai:\n",
    "        if len(zodis) == ilgis:\n",
    "            ilgio_zodziai.append(zodis)\n",
    "            return ilgio_zodziai\n",
    "\n",
    "sakinys = \"Labas vakaras, kaip praejo jusu diena?\"\n",
    "ilgis = 5\n",
    "zodziai = sarasas_zodziu(sakinys, ilgis)\n",
    "print(zodziai)\n"
   ]
  },
  {
   "cell_type": "code",
   "execution_count": null,
   "metadata": {},
   "outputs": [
    {
     "name": "stdout",
     "output_type": "stream",
     "text": [
      "988\n"
     ]
    }
   ],
   "source": [
    "def didziausias_skaicius(skaiciai):\n",
    "    didziausias = skaiciai[0]\n",
    "    for skaicius in skaiciai:\n",
    "        if skaicius > didziausias:\n",
    "            didziausias = skaicius\n",
    "    return didziausias\n",
    "\n",
    "skaiciai = [496, 242, 724, 153, 988, 542]\n",
    "didziausias = didziausias_skaicius(skaiciai)\n",
    "print(didziausias)  "
   ]
  },
  {
   "cell_type": "code",
   "execution_count": null,
   "metadata": {},
   "outputs": [
    {
     "name": "stdout",
     "output_type": "stream",
     "text": [
      "['anvil']\n"
     ]
    }
   ],
   "source": [
    "def prasideda_raide(zodziai, raide):\n",
    "    raides_zodziai = []\n",
    "    for zodis in zodziai:\n",
    "        if zodis[0] == raide:\n",
    "            raides_zodziai.append(zodis)\n",
    "    return raides_zodziai\n",
    "\n",
    "zodziai = ['anvil', 'shroom', 'grill', 'burger', 'freshavocado']\n",
    "raide = 'a'\n",
    "zodziai_a = prasideda_raide(zodziai, raide)\n",
    "print(zodziai_a)"
   ]
  },
  {
   "cell_type": "code",
   "execution_count": null,
   "metadata": {},
   "outputs": [
    {
     "name": "stdout",
     "output_type": "stream",
     "text": [
      "[]\n"
     ]
    }
   ],
   "source": [
    "def ilgis_lyginis(tekstas):\n",
    "    zodziai = tekstas.split()\n",
    "    lyginio_ilgio_zodziai = []\n",
    "    for zodis in zodziai:\n",
    "        if len(zodis) % 2 == 0:\n",
    "            lyginio_ilgio_zodziai.append(zodis)\n",
    "    return lyginio_ilgio_zodziai\n",
    "\n",
    "tekstas = \"Labas vakaras draugai\"\n",
    "lyginio_ilgio_zodziai = ilgis_lyginis(tekstas)\n",
    "print(lyginio_ilgio_zodziai)"
   ]
  },
  {
   "attachments": {},
   "cell_type": "markdown",
   "metadata": {},
   "source": [
    "## Nebutini argumentai"
   ]
  },
  {
   "cell_type": "code",
   "execution_count": null,
   "metadata": {},
   "outputs": [
    {
     "data": {
      "text/plain": [
       "50.24"
      ]
     },
     "execution_count": 37,
     "metadata": {},
     "output_type": "execute_result"
    }
   ],
   "source": [
    "def apskritimo_plotas(apskritimo_spindulys, pi):\n",
    "    plotas = pi * (apskritimo_spindulys ** 2)\n",
    "    return plotas\n",
    "\n",
    "apskritimo_plotas(4, 3.14)"
   ]
  },
  {
   "cell_type": "code",
   "execution_count": null,
   "metadata": {},
   "outputs": [
    {
     "name": "stdout",
     "output_type": "stream",
     "text": [
      "{'atstumas': 5400, 'sanaudos': 378.0, 'islaidos': 748.4399999999999}\n"
     ]
    }
   ],
   "source": [
    "def keliones_informacija(keliones_trukme, greitis, vartojimas, kuro_kaina):\n",
    "    atstumas = keliones_trukme * greitis\n",
    "    sanaudos = atstumas * vartojimas / 100\n",
    "    islaidos = sanaudos * kuro_kaina\n",
    "\n",
    "    return {\n",
    "        'atstumas': atstumas,\n",
    "        'sanaudos': sanaudos,\n",
    "        'islaidos': islaidos\n",
    "    }\n",
    "\n",
    "x = keliones_informacija(60, 90, 7, 1.98)\n",
    "print(x)"
   ]
  },
  {
   "attachments": {},
   "cell_type": "markdown",
   "metadata": {},
   "source": [
    "## Args Kwargs"
   ]
  },
  {
   "cell_type": "code",
   "execution_count": null,
   "metadata": {},
   "outputs": [
    {
     "name": "stdout",
     "output_type": "stream",
     "text": [
      "74\n"
     ]
    }
   ],
   "source": [
    "def didziausias(*args):\n",
    "    if len(args) == 0:\n",
    "        return None\n",
    "    didziausia_reiksme = args[0]\n",
    "    for arg in args:\n",
    "        if arg > didziausia_reiksme:\n",
    "            didziausia_reiksme = arg\n",
    "    return didziausia_reiksme\n",
    "\n",
    "print(didziausias(1, 3, 2, 47, 52, 74, 13, 56, 71, 59, 43))"
   ]
  },
  {
   "cell_type": "code",
   "execution_count": null,
   "metadata": {},
   "outputs": [
    {
     "name": "stdout",
     "output_type": "stream",
     "text": [
      "{'vardas': 'Jonas', 'amzius': 30, 'miestas': 'Vilnius', 'metai': 2023}\n"
     ]
    }
   ],
   "source": [
    "def raktai(**kwargs):\n",
    "    nurodyti_raktai = {}\n",
    "    for key in kwargs:\n",
    "        if key in ['vardas', 'amzius', 'miestas', 'metai']:\n",
    "            nurodyti_raktai[key] = kwargs[key]\n",
    "    return nurodyti_raktai\n",
    "\n",
    "print(raktai(vardas=\"Jonas\", amzius=30, miestas=\"Vilnius\", metai=2023))"
   ]
  },
  {
   "cell_type": "code",
   "execution_count": null,
   "metadata": {},
   "outputs": [
    {
     "data": {
      "text/plain": [
       "['vienas', 'kitas', 7]"
      ]
     },
     "execution_count": 43,
     "metadata": {},
     "output_type": "execute_result"
    }
   ],
   "source": [
    "def sujungs(*args, **kwargs):\n",
    "    visi_elementai = list(args)\n",
    "    visi_elementai += list(kwargs.values())\n",
    "    return visi_elementai\n",
    "\n",
    "sujungs('vienas', 'kitas', 7)"
   ]
  },
  {
   "attachments": {},
   "cell_type": "markdown",
   "metadata": {},
   "source": [
    "## Anonimines funkcijos"
   ]
  },
  {
   "cell_type": "code",
   "execution_count": null,
   "metadata": {},
   "outputs": [
    {
     "name": "stdout",
     "output_type": "stream",
     "text": [
      "[50, 11, 56, 15]\n"
     ]
    }
   ],
   "source": [
    "skaiciai = [10, 50, 11, 9, 7, 56, 15]\n",
    "daugiau_nei_10 = list(filter(lambda x: x > 10, skaiciai))\n",
    "print(daugiau_nei_10)"
   ]
  },
  {
   "cell_type": "code",
   "execution_count": null,
   "metadata": {},
   "outputs": [
    {
     "name": "stdout",
     "output_type": "stream",
     "text": [
      "12.5\n"
     ]
    }
   ],
   "source": [
    "skaiciai = [1, 2, 4, 5, 9, 54]\n",
    "vidurkis = lambda x: sum(x) / len(x)\n",
    "\n",
    "print(vidurkis(skaiciai))"
   ]
  },
  {
   "cell_type": "code",
   "execution_count": null,
   "metadata": {},
   "outputs": [
    {
     "name": "stdout",
     "output_type": "stream",
     "text": [
      "30\n"
     ]
    }
   ],
   "source": [
    "didziausias_skaicius = lambda x, y, z: max(x, y, z)\n",
    "\n",
    "print(didziausias_skaicius(10, 30, 20))"
   ]
  },
  {
   "attachments": {},
   "cell_type": "markdown",
   "metadata": {},
   "source": [
    "## Objektai ir klases"
   ]
  },
  {
   "cell_type": "code",
   "execution_count": null,
   "metadata": {},
   "outputs": [],
   "source": [
    "class Darbuotojas:\n",
    "    def __init__(self, vardas, pavarde, pareigos, atlyginimas=3500):\n",
    "        self.vardas = vardas\n",
    "        self.pavarde = pavarde\n",
    "        self.pareigos = pareigos\n",
    "        self.atlyginimas = atlyginimas\n",
    "\n",
    "        "
   ]
  },
  {
   "cell_type": "code",
   "execution_count": null,
   "metadata": {},
   "outputs": [],
   "source": [
    "def __str__(self):\n",
    "        return f'{self.vardas} {self.pavarde}, pareigos: {self.pareigos}, atlyginimas: {self.atlyginimas}'"
   ]
  },
  {
   "cell_type": "code",
   "execution_count": 56,
   "metadata": {},
   "outputs": [],
   "source": [
    "darbuotojas = Darbuotojas('Andrius', 'Žilinskas', 'Programeris', 3500)\n"
   ]
  },
  {
   "cell_type": "code",
   "execution_count": 57,
   "metadata": {},
   "outputs": [
    {
     "name": "stdout",
     "output_type": "stream",
     "text": [
      "Darbuotojo pareigos:  Programeris\n",
      "Darbuotojo atlyginimas:  3500\n"
     ]
    }
   ],
   "source": [
    "print('Darbuotojo pareigos: ', darbuotojas.pareigos)\n",
    "print('Darbuotojo atlyginimas: ', darbuotojas.atlyginimas)"
   ]
  },
  {
   "cell_type": "code",
   "execution_count": null,
   "metadata": {},
   "outputs": [],
   "source": [
    "darbuotojas.atlyginimas = 3000"
   ]
  },
  {
   "cell_type": "code",
   "execution_count": 70,
   "metadata": {},
   "outputs": [
    {
     "name": "stdout",
     "output_type": "stream",
     "text": [
      "darbuotojas:  {<__main__.Darbuotojas object at 0x0000028861BE4D10>}\n"
     ]
    }
   ],
   "source": [
    "print('darbuotojas: ', darbuotojas)"
   ]
  },
  {
   "cell_type": "code",
   "execution_count": 104,
   "metadata": {},
   "outputs": [],
   "source": [
    "class Gyvunas():\n",
    "    def __init__(self, vardas, amzius, svoris):\n",
    "        self.vardas = vardas\n",
    "        self.amzius = amzius\n",
    "        self.svoris = svoris\n",
    "\n",
    "    def padidinti_svori(self, kiek):\n",
    "        self.svoris += kiek\n",
    "    \n",
    "    def sumazinti_svori(self, kiek):\n",
    "        self.svoris -= kiek\n",
    "\n",
    "    def padidejes_amzius(self):\n",
    "        self.amzius += 1\n",
    "\n",
    "    def __str__(self):\n",
    "        return f'gyvūnas vardu: {self.vardas} jam yra {self.amzius} metu ir jis sveria {self.svoris}'\n",
    "    \n"
   ]
  },
  {
   "cell_type": "code",
   "execution_count": 59,
   "metadata": {},
   "outputs": [
    {
     "name": "stdout",
     "output_type": "stream",
     "text": [
      "gyvūnas vardu: Grantas jam yra 4 metu ir jis sveria 17\n"
     ]
    }
   ],
   "source": [
    "gyvunas = Gyvunas('Grantas', 4, 17)\n",
    "print(gyvunas)"
   ]
  },
  {
   "cell_type": "code",
   "execution_count": 60,
   "metadata": {},
   "outputs": [
    {
     "name": "stdout",
     "output_type": "stream",
     "text": [
      "gyvūnas vardu: Grantas jam yra 4 metu ir jis sveria 19\n"
     ]
    }
   ],
   "source": [
    "gyvunas.padidinti_svori(2)\n",
    "print(gyvunas)"
   ]
  },
  {
   "cell_type": "code",
   "execution_count": 64,
   "metadata": {},
   "outputs": [
    {
     "name": "stdout",
     "output_type": "stream",
     "text": [
      "gyvūnas vardu: Grantas jam yra 6 metu ir jis sveria 19\n"
     ]
    }
   ],
   "source": [
    "gyvunas.padidejes_amzius()\n",
    "print(gyvunas)"
   ]
  },
  {
   "cell_type": "code",
   "execution_count": 68,
   "metadata": {},
   "outputs": [
    {
     "name": "stdout",
     "output_type": "stream",
     "text": [
      "gyvūnas vardu: Grantas jam yra 6 metu ir jis sveria 17\n"
     ]
    }
   ],
   "source": [
    "gyvunas.sumazinti_svori(3)\n",
    "print(gyvunas)"
   ]
  },
  {
   "attachments": {},
   "cell_type": "markdown",
   "metadata": {},
   "source": [
    "## Inkapsuliacija"
   ]
  },
  {
   "cell_type": "code",
   "execution_count": 96,
   "metadata": {},
   "outputs": [
    {
     "name": "stdout",
     "output_type": "stream",
     "text": [
      "100 EU buvo sekmingai pridėta į jūsų sąskaitą, dabartinis likutis 3770\n"
     ]
    }
   ],
   "source": [
    "class Bank:\n",
    "    def __init__(self, savininkas, saskaitos_numeris, balansas, pin_kodas):\n",
    "        self.saskaitos_numeris = saskaitos_numeris\n",
    "        self.savininkas = savininkas\n",
    "        self.__balansas = balansas\n",
    "        self.__pin_kodas = pin_kodas\n",
    "\n",
    "    def sumazinti(self, kiek, pin_kodas):\n",
    "        if pin_kodas == self.__pin_kodas:\n",
    "            self.__balansas -= kiek\n",
    "            print(f'{kiek} EU buvo sekmingai nuskaityta iš jūsų sąskaitos, dabartinis likutis {self.__balansas}')\n",
    "        else: print('Neteisingas pin kodas')\n",
    "\n",
    "    def papildyti(self, kiek, pin_kodas):\n",
    "        if pin_kodas == self.__pin_kodas:\n",
    "            self.__balansas += kiek\n",
    "            print(f'{kiek} EU buvo sekmingai pridėta į jūsų sąskaitą, dabartinis likutis {self.__balansas}')\n",
    "        else: print('Neteisingas pin kodas')\n",
    "\n",
    "saskaita = Bank('Arnas', 'LT123456789', 3670, 1234)\n",
    "\n",
    "saskaita.papildyti(100, 1234)\n",
    "        \n",
    "\n"
   ]
  },
  {
   "cell_type": "code",
   "execution_count": 91,
   "metadata": {},
   "outputs": [
    {
     "name": "stdout",
     "output_type": "stream",
     "text": [
      "100 € sėkmingai nuskaityta. Dabartinis saskaitos likutis: 900 €\n"
     ]
    }
   ],
   "source": [
    "class BankoSaskaita:\n",
    "    def __init__(self, saskaitos_numeris, savininkas, balansas, pin_kodas):\n",
    "        self.saskaitos_numeris = saskaitos_numeris\n",
    "        self.savininkas = savininkas\n",
    "        self.__balansas = balansas\n",
    "        self.__pin_kodas = pin_kodas\n",
    "\n",
    "    def nuskaityti(self, suma, pin_kodas):\n",
    "        if pin_kodas == self.__pin_kodas:\n",
    "            self.__balansas -= suma\n",
    "            print(f'{suma} € sėkmingai nuskaityta. Dabartinis saskaitos likutis: {self.__balansas} €')\n",
    "        else:\n",
    "            print('Neteisingas slaptažodis. Nuskaitymas negalimas.')\n",
    "\n",
    "    def papildyti(self, suma, pin_kodas):\n",
    "        if pin_kodas == self.__pin_kodas:\n",
    "            self.__balansas += suma\n",
    "            print(f'{suma} € sėkmingai papildyta. Dabartinis saskaitos likutis: {self.__balansas} €')\n",
    "        else:\n",
    "            print('Neteisingas slaptažodis. Papildymas negalimas.')\n",
    "\n",
    "saskaita = BankoSaskaita('LT123456789', 'Jonas Jonaitis', 1000, 1234)\n",
    "\n",
    "saskaita.nuskaityti(100, 1234)"
   ]
  },
  {
   "cell_type": "code",
   "execution_count": 113,
   "metadata": {},
   "outputs": [
    {
     "name": "stdout",
     "output_type": "stream",
     "text": [
      "infoHATA\n",
      "vidutine\n",
      "Python\n",
      "1772\n"
     ]
    }
   ],
   "source": [
    "class Knygos():\n",
    "    def __init__(self, pavadinimas, autorius, bukle, puslapiu_skaicius):\n",
    "        self.__pavadinimas = pavadinimas\n",
    "        self.__autorius = autorius\n",
    "        self.__bukle = bukle\n",
    "        self.__puslapiu_skaicius = puslapiu_skaicius\n",
    "\n",
    "    def gauti_pavadinima(self):\n",
    "        return self.__pavadinimas\n",
    "    \n",
    "    def gauti_autoriu(self):\n",
    "        return self.__autorius\n",
    "    \n",
    "    def gauti_bukle(self):\n",
    "        return self.__bukle\n",
    "    \n",
    "    def gauti_puslapiu_skaiciu(self):\n",
    "        return self.__puslapiu_skaicius\n",
    "    \n",
    "    def __nauja_bukle(self, bukle):\n",
    "        self.__bukle = bukle\n",
    "\n",
    "    def __naujas_puslapiu_skaicius(self, puslapiai):\n",
    "        self.__puslapiu_skaicius -= puslapiai\n",
    "\n",
    "    def pakeisti_bukle(self, bukle):\n",
    "        self.__nauja_bukle(bukle)\n",
    "\n",
    "    def pakeisti_puslapiu_skaiciu(self, puslapiai):\n",
    "        self.__naujas_puslapiu_skaicius(puslapiai)\n",
    "\n",
    "knyga = Knygos('Python', 'infoHATA', 'ideali', 1822)\n",
    "\n",
    "knyga.pakeisti_bukle('vidutine')\n",
    "knyga.pakeisti_puslapiu_skaiciu(50)\n",
    "print(knyga.gauti_autoriu())\n",
    "print(knyga.gauti_bukle())\n",
    "print(knyga.gauti_pavadinima())\n",
    "print(knyga.gauti_puslapiu_skaiciu())\n",
    "    \n",
    "\n"
   ]
  },
  {
   "attachments": {},
   "cell_type": "markdown",
   "metadata": {},
   "source": [
    "## Random"
   ]
  },
  {
   "attachments": {},
   "cell_type": "markdown",
   "metadata": {},
   "source": [
    "## Objektų ir klasių Paveldejimas\n"
   ]
  },
  {
   "cell_type": "code",
   "execution_count": 10,
   "metadata": {},
   "outputs": [
    {
     "name": "stdout",
     "output_type": "stream",
     "text": [
      "Ugnius\n",
      "Bega\n",
      "Puma\n",
      "Miau\n",
      "Guli and sofos\n",
      "Grantas\n",
      "Au au\n",
      "Kasa duobes kieme\n",
      "Deimantas\n",
      "Valgo žolę\n"
     ]
    }
   ],
   "source": [
    "class Gyvunas():\n",
    "    def __init__(self, vardas):\n",
    "        self.vardas = vardas\n",
    "\n",
    "    def balsas(self):\n",
    "        pass\n",
    "\n",
    "    def judejimas(self):\n",
    "        print('Bega')\n",
    "\n",
    "class Kate(Gyvunas):\n",
    "    def balsas(self):\n",
    "        print('Miau')\n",
    "\n",
    "    def judejimas(self):\n",
    "        print('Guli and sofos')\n",
    "\n",
    "class Suo(Gyvunas):\n",
    "    def balsas(self):\n",
    "        print('Au au')\n",
    "\n",
    "    def judejimas(self):\n",
    "        print('Kasa duobes kieme')\n",
    "\n",
    "class Arklys(Gyvunas):\n",
    "    def balsas(self):\n",
    "        pass\n",
    "\n",
    "    def judejimas(self):\n",
    "        print('Valgo žolę')\n",
    "\n",
    "    \n",
    "\n",
    "ziurkenas = Gyvunas('Ugnius')\n",
    "kate = Kate('Puma')\n",
    "suo = Suo('Grantas')\n",
    "arklys = Arklys('Deimantas')\n",
    "\n",
    "print(ziurkenas.vardas)\n",
    "ziurkenas.balsas()\n",
    "ziurkenas.judejimas()\n",
    "\n",
    "print(kate.vardas)\n",
    "kate.balsas()\n",
    "kate.judejimas()\n",
    "\n",
    "print(suo.vardas)\n",
    "suo.balsas()\n",
    "suo.judejimas()\n",
    "\n",
    "print(arklys.vardas)\n",
    "arklys.balsas()\n",
    "arklys.judejimas()\n",
    "\n",
    "    "
   ]
  },
  {
   "cell_type": "code",
   "execution_count": 11,
   "metadata": {},
   "outputs": [
    {
     "name": "stdout",
     "output_type": "stream",
     "text": [
      "True\n",
      "False\n",
      "False\n",
      "True\n",
      "True\n",
      "False\n",
      "True\n",
      "False\n",
      "True\n",
      "True\n",
      "True\n",
      "False\n",
      "False\n"
     ]
    }
   ],
   "source": [
    "print(isinstance(ziurkenas, Gyvunas))\n",
    "print(isinstance(ziurkenas, Kate))\n",
    "print(isinstance(ziurkenas, Suo))\n",
    "print(isinstance(kate, Gyvunas))\n",
    "print(isinstance(kate, Kate))\n",
    "print(isinstance(kate, Suo))\n",
    "print(isinstance(suo, Gyvunas))\n",
    "print(isinstance(suo, Kate))\n",
    "print(isinstance(suo, Suo))\n",
    "print(isinstance(arklys, Arklys))\n",
    "print(isinstance(arklys, Gyvunas))\n",
    "print(isinstance(arklys, Kate))\n",
    "print(isinstance(arklys, Suo))"
   ]
  },
  {
   "attachments": {},
   "cell_type": "markdown",
   "metadata": {},
   "source": [
    "# Abstrakcija"
   ]
  },
  {
   "cell_type": "code",
   "execution_count": 26,
   "metadata": {},
   "outputs": [
    {
     "name": "stdout",
     "output_type": "stream",
     "text": [
      "Baseino talpa: 1000 litrų, šiuo metu baseinas užpildytas: 300 litrais\n",
      "Išpilta 50 litrų vandens\n",
      "Įpilta 450 litrų vandens\n",
      "700\n"
     ]
    }
   ],
   "source": [
    "class Baseinas:\n",
    "\n",
    "  def __init__(self, talpa, dabartinis_kiekis):\n",
    "    self.__talpa = talpa\n",
    "    self.__dabartinis_kiekis = dabartinis_kiekis\n",
    "\n",
    "  def __keitimas(self, kiekis):\n",
    "    self.__dabartinis_kiekis += kiekis\n",
    "\n",
    "  def pilamas_vanduo(self, kiekis):\n",
    "    if self.__dabartinis_kiekis + kiekis <= self.__talpa:\n",
    "      self.__keitimas(kiekis)\n",
    "      print(f'Įpilta {kiekis} litrų vandens')\n",
    "    else:\n",
    "      print(f'Negalima įpilti {kiekis} litrų vandens, nes viršytų talpą')\n",
    "\n",
    "  def nuleisti_vandeni(self, kiekis):\n",
    "    if self.__dabartinis_kiekis - kiekis >= 0:\n",
    "      self.__keitimas(-kiekis)\n",
    "      print(f'Išpilta {kiekis} litrų vandens')\n",
    "    else:\n",
    "      print(\n",
    "        f'Negalima išpilti {kiekis} litrų vandens, nes dabar yra tik {self.__dabartinis_kiekis} litrų'\n",
    "      )\n",
    "\n",
    "  def get_talpa(self):\n",
    "    return self.__talpa\n",
    "  \n",
    "  def get_dabartinis_kiekis(self):\n",
    "    return self.__dabartinis_kiekis\n",
    "\n",
    "\n",
    "baseinas = Baseinas(1000, 300)\n",
    "print(f'Baseino talpa: {baseinas.get_talpa()} litrų, šiuo metu baseinas užpildytas: {baseinas.get_dabartinis_kiekis()} litrais')\n",
    "\n",
    "baseinas.nuleisti_vandeni(50)\n",
    "baseinas.pilamas_vanduo(450)\n",
    "print(baseinas.get_dabartinis_kiekis())"
   ]
  },
  {
   "attachments": {},
   "cell_type": "markdown",
   "metadata": {},
   "source": [
    "# polimorph"
   ]
  },
  {
   "cell_type": "code",
   "execution_count": 20,
   "metadata": {},
   "outputs": [],
   "source": [
    "class Darbuotojas:\n",
    "    def __init__(self, vardas, pavarde, atlyginimas=1200):\n",
    "        self.vardas = vardas\n",
    "        self.pavarde = pavarde\n",
    "        self.atlyginimas = atlyginimas\n",
    "\n",
    "    def info(self):\n",
    "        print(f'As {self.vardas} {self.pavarde}, mano alga {self.atlyginimas}')\n",
    "\n",
    "class Administratorius(Darbuotojas):\n",
    "    def __init__(self, vardas, pavarde, atlyginimas):\n",
    "        super().__init__(vardas, pavarde, atlyginimas)\n",
    "\n",
    "class Vadovas(Darbuotojas):\n",
    "    def __init__(self, vardas, pavarde, atlyginimas, premija=1200):\n",
    "        super().__init__(vardas, pavarde, atlyginimas)\n",
    "        self.premija = premija\n",
    "\n",
    "    def info(self):\n",
    "        super().info()\n",
    "        print(f'Premija: {self.premija} €')\n",
    "\n",
    "\n"
   ]
  },
  {
   "cell_type": "code",
   "execution_count": 21,
   "metadata": {},
   "outputs": [
    {
     "name": "stdout",
     "output_type": "stream",
     "text": [
      "As Kestas Pavardenis, mano alga 3000\n",
      "As Danius Pavardenius, mano alga 3500\n",
      "As Antanas Pavardzius, mano alga 4000\n",
      "Premija: 1000 €\n",
      "<bound method Vadovas.info of <__main__.Vadovas object at 0x00000294D6D3D710>>\n"
     ]
    }
   ],
   "source": [
    "darbuotojas = Darbuotojas('Kestas', 'Pavardenis', 3000)\n",
    "admin = Administratorius('Danius', 'Pavardenius', 3500)\n",
    "vadovas = Vadovas('Antanas', 'Pavardzius', 4000, 1000)\n",
    "\n",
    "darbuotojai = [darbuotojas, admin, vadovas]\n",
    "\n",
    "for darbuotojas in darbuotojai:\n",
    "    darbuotojas.info()\n",
    "\n",
    "print(darbuotojas.info)"
   ]
  },
  {
   "cell_type": "code",
   "execution_count": 11,
   "metadata": {},
   "outputs": [
    {
     "ename": "SyntaxError",
     "evalue": "invalid syntax (1948165411.py, line 1)",
     "output_type": "error",
     "traceback": [
      "\u001b[1;36m  Cell \u001b[1;32mIn[11], line 1\u001b[1;36m\u001b[0m\n\u001b[1;33m    def simple_multiplication(8) :\u001b[0m\n\u001b[1;37m                              ^\u001b[0m\n\u001b[1;31mSyntaxError\u001b[0m\u001b[1;31m:\u001b[0m invalid syntax\n"
     ]
    }
   ],
   "source": [
    "def simple_multiplication(8) :\n",
    "    if 8 % 2 == 0:\n",
    "        8 * 8\n",
    "    else:\n",
    "        8 * 9\n",
    "\n",
    "number = 8\n",
    "simple_multiplication(number)\n",
    "print(simple_multiplication)\n",
    "\n",
    "\n",
    "\n",
    "    \n",
    "\n"
   ]
  },
  {
   "attachments": {},
   "cell_type": "markdown",
   "metadata": {},
   "source": [
    "## Datetime\n"
   ]
  },
  {
   "cell_type": "code",
   "execution_count": 6,
   "metadata": {},
   "outputs": [
    {
     "name": "stdout",
     "output_type": "stream",
     "text": [
      "2023-04-24 13:38:00.294722\n",
      "38:00\n"
     ]
    }
   ],
   "source": [
    "import datetime\n",
    "from datetime import datetime\n",
    "import time\n",
    "\n",
    "laikas = datetime.now()\n",
    "print(laikas)\n",
    "laikass = \"%M:%S\"\n",
    "\n",
    "data = laikas.strftime(laikass)\n",
    "print(data)"
   ]
  },
  {
   "cell_type": "code",
   "execution_count": 7,
   "metadata": {},
   "outputs": [
    {
     "name": "stdout",
     "output_type": "stream",
     "text": [
      "Liko 219 dienų iki gimtadienio\n"
     ]
    }
   ],
   "source": [
    "from datetime import datetime, timedelta\n",
    "def gimtadienis(gimimo_data):\n",
    "    gimimo_data_formatas = datetime.strptime(gimimo_data, '%Y-%m-%d')\n",
    "    siandien = datetime.now()\n",
    "    gimimo_diena = gimimo_data_formatas.replace(year=siandien.year)\n",
    "\n",
    "    if gimimo_diena < siandien:\n",
    "        gimimo_diena = gimimo_diena.replace(year=siandien.year + 1)\n",
    "\n",
    "    skirias = gimimo_diena - siandien\n",
    "    return skirias.days\n",
    "\n",
    "gimimo_data = \"2001-11-30\"\n",
    "print(f'Liko {gimtadienis(gimimo_data)} dienų iki gimtadienio')\n",
    "\n",
    "\n"
   ]
  },
  {
   "cell_type": "code",
   "execution_count": 10,
   "metadata": {},
   "outputs": [
    {
     "name": "stdout",
     "output_type": "stream",
     "text": [
      "pridejus 48h 2023-04-26 13:54\n"
     ]
    }
   ],
   "source": [
    "def valandos(data_laikas):\n",
    "    formatas = \"%Y-%m-%d %H:%M\"\n",
    "    data = datetime.strptime(data_laikas, formatas)\n",
    "    pridedam_valandas = data + timedelta(hours=48)\n",
    "    naujas_laikas = pridedam_valandas.strftime(formatas)\n",
    "    return naujas_laikas\n",
    "\n",
    "data_laikas = \"2023-04-24 13:54\"\n",
    "print(f'pridejus 48h {valandos(data_laikas)}')\n"
   ]
  },
  {
   "cell_type": "code",
   "execution_count": 21,
   "metadata": {},
   "outputs": [
    {
     "name": "stdout",
     "output_type": "stream",
     "text": [
      "Laikotarpiu skirtumas dienomis: 30\n"
     ]
    }
   ],
   "source": [
    "from datetime import datetime\n",
    "def skirtumas_tarp_dvieju_datu(date1, date2):\n",
    "    formatas = \"%Y-%m-%d\"\n",
    "    date1 = datetime.fromtimestamp(date1)\n",
    "    date2 = datetime.fromtimestamp(date2)\n",
    "    skirtumas = abs(date2 - date1)\n",
    "    return skirtumas.days\n",
    "\n",
    "date1 = 1671395400\n",
    "date2 = 1674000000\n",
    "\n",
    "print(f\"Laikotarpiu skirtumas dienomis: {skirtumas_tarp_dvieju_datu(date1, date2)}\")\n",
    "\n",
    "\n",
    "\n"
   ]
  },
  {
   "cell_type": "code",
   "execution_count": 23,
   "metadata": {},
   "outputs": [],
   "source": [
    "from datetime import datetime\n",
    "from zoneinfo import ZoneInfo, available_timezones\n",
    "from pprint import pprint\n",
    "\n",
    "for time_zone in available_timezones():\n",
    "    print(time_zone)\n"
   ]
  },
  {
   "attachments": {},
   "cell_type": "markdown",
   "metadata": {},
   "source": [
    "## list comprehension\n"
   ]
  },
  {
   "cell_type": "code",
   "execution_count": 7,
   "metadata": {},
   "outputs": [
    {
     "name": "stdout",
     "output_type": "stream",
     "text": [
      "[22, 28, 34]\n",
      "[22, 28, 34]\n"
     ]
    }
   ],
   "source": [
    "sarasas = [1, 11, 8, 6, 14, 17, 4]\n",
    "rezultatas = map(lambda x: x* 2, filter(lambda x: x > 10, sarasas))\n",
    "\n",
    "print(list(rezultatas))\n",
    "\n",
    "result = [x * 2 for x in sarasas if x > 10]\n",
    "print(result)\n"
   ]
  },
  {
   "cell_type": "code",
   "execution_count": 8,
   "metadata": {},
   "outputs": [
    {
     "name": "stdout",
     "output_type": "stream",
     "text": [
      "502656\n"
     ]
    }
   ],
   "source": [
    "from functools import reduce\n",
    "import operator\n",
    "suma = reduce(lambda x, y: x * y, sarasas)\n",
    "print(suma)"
   ]
  },
  {
   "cell_type": "code",
   "execution_count": 13,
   "metadata": {},
   "outputs": [
    {
     "name": "stdout",
     "output_type": "stream",
     "text": [
      "61\n",
      "8.714285714285714\n",
      "8\n",
      "1\n",
      "17\n"
     ]
    }
   ],
   "source": [
    "import statistics\n",
    "print(sum(sarasas))\n",
    "print(statistics.mean(sarasas))\n",
    "print(statistics.median(sarasas))\n",
    "print(min(sarasas))\n",
    "print(max(sarasas))"
   ]
  },
  {
   "cell_type": "code",
   "execution_count": 14,
   "metadata": {},
   "outputs": [
    {
     "name": "stdout",
     "output_type": "stream",
     "text": [
      "[6, 1, 4, 11, 8, 14, 17]\n"
     ]
    }
   ],
   "source": [
    "result1 = sorted(sarasas, key=lambda x: x % 3)\n",
    "print(result1)"
   ]
  },
  {
   "cell_type": "code",
   "execution_count": 16,
   "metadata": {},
   "outputs": [
    {
     "name": "stdout",
     "output_type": "stream",
     "text": [
      "8.0\n",
      "8.0\n"
     ]
    }
   ],
   "source": [
    "from functools import reduce\n",
    "\n",
    "result2 = reduce(lambda x, y: x + y, filter(lambda x: x % 2 == 0, sarasas)) / len(list(filter(lambda x: x % 2 == 0, sarasas)))\n",
    "print(result2)\n",
    "\n",
    "result = sum(x for x in sarasas if x % 2 == 0) / len([x for x in sarasas if x % 2 == 0])\n",
    "print(result)"
   ]
  },
  {
   "attachments": {},
   "cell_type": "markdown",
   "metadata": {},
   "source": [
    "## Iteratoriai"
   ]
  },
  {
   "cell_type": "code",
   "execution_count": 17,
   "metadata": {},
   "outputs": [
    {
     "name": "stdout",
     "output_type": "stream",
     "text": [
      "8\n",
      "6\n",
      "14\n",
      "4\n"
     ]
    }
   ],
   "source": [
    "for skaicius in sarasas:\n",
    "    if skaicius % 2 == 0:\n",
    "        print(skaicius)"
   ]
  },
  {
   "cell_type": "code",
   "execution_count": 21,
   "metadata": {},
   "outputs": [
    {
     "name": "stdout",
     "output_type": "stream",
     "text": [
      "b\n",
      "e\n"
     ]
    }
   ],
   "source": [
    "zodynas = {'a': 4, 'b': 6, 'c': 1, 'd': 3, 'e': 10}\n",
    "zodynas1 = iter(zodynas.items())\n",
    "\n",
    "while True:\n",
    "    try:\n",
    "        key, value = next(zodynas1)\n",
    "        if value > 4:\n",
    "            print(key)\n",
    "    except StopIteration:\n",
    "        break"
   ]
  },
  {
   "cell_type": "code",
   "execution_count": 22,
   "metadata": {},
   "outputs": [
    {
     "name": "stdout",
     "output_type": "stream",
     "text": [
      "6\n",
      "6\n",
      "7\n",
      "5\n",
      "8\n"
     ]
    }
   ],
   "source": [
    "sakinys = 'Gražus vakare dangus, saulė leidžias'\n",
    "zodziu_ilgis = (len(zodis) for zodis in sakinys.split())\n",
    "\n",
    "for ilgis in zodziu_ilgis:\n",
    "    print(ilgis)"
   ]
  },
  {
   "cell_type": "code",
   "execution_count": 25,
   "metadata": {},
   "outputs": [
    {
     "name": "stdout",
     "output_type": "stream",
     "text": [
      "2\n",
      "3\n",
      "5\n",
      "7\n",
      "11\n",
      "13\n",
      "17\n",
      "19\n",
      "23\n",
      "29\n",
      "31\n",
      "37\n",
      "41\n",
      "43\n",
      "47\n",
      "53\n",
      "59\n",
      "61\n",
      "67\n",
      "71\n",
      "73\n",
      "79\n",
      "83\n",
      "89\n",
      "97\n",
      "101\n",
      "103\n",
      "107\n",
      "109\n",
      "113\n",
      "127\n",
      "131\n",
      "137\n",
      "139\n",
      "149\n",
      "151\n",
      "157\n",
      "163\n",
      "167\n",
      "173\n",
      "179\n",
      "181\n",
      "191\n",
      "193\n",
      "197\n",
      "199\n",
      "211\n",
      "223\n",
      "227\n",
      "229\n",
      "233\n",
      "239\n",
      "241\n",
      "251\n",
      "257\n",
      "263\n",
      "269\n",
      "271\n",
      "277\n",
      "281\n",
      "283\n",
      "293\n",
      "307\n",
      "311\n",
      "313\n",
      "317\n",
      "331\n",
      "337\n",
      "347\n",
      "349\n",
      "353\n",
      "359\n",
      "367\n",
      "373\n",
      "379\n",
      "383\n",
      "389\n",
      "397\n",
      "401\n",
      "409\n",
      "419\n",
      "421\n",
      "431\n",
      "433\n",
      "439\n",
      "443\n",
      "449\n",
      "457\n",
      "461\n",
      "463\n",
      "467\n",
      "479\n",
      "487\n",
      "491\n",
      "499\n",
      "503\n",
      "509\n",
      "521\n",
      "523\n",
      "541\n",
      "547\n",
      "557\n",
      "563\n",
      "569\n",
      "571\n",
      "577\n",
      "587\n",
      "593\n",
      "599\n",
      "601\n",
      "607\n",
      "613\n",
      "617\n",
      "619\n",
      "631\n",
      "641\n",
      "643\n",
      "647\n",
      "653\n",
      "659\n",
      "661\n",
      "673\n",
      "677\n",
      "683\n",
      "691\n",
      "701\n",
      "709\n",
      "719\n",
      "727\n",
      "733\n",
      "739\n",
      "743\n",
      "751\n",
      "757\n",
      "761\n",
      "769\n",
      "773\n",
      "787\n",
      "797\n",
      "809\n",
      "811\n",
      "821\n",
      "823\n",
      "827\n",
      "829\n",
      "839\n",
      "853\n",
      "857\n",
      "859\n",
      "863\n",
      "877\n",
      "881\n",
      "883\n",
      "887\n",
      "907\n",
      "911\n",
      "919\n",
      "929\n",
      "937\n",
      "941\n",
      "947\n",
      "953\n",
      "967\n",
      "971\n",
      "977\n",
      "983\n",
      "991\n",
      "997\n",
      "1009\n",
      "1013\n",
      "1019\n",
      "1021\n",
      "1031\n",
      "1033\n",
      "1039\n",
      "1049\n",
      "1051\n",
      "1061\n",
      "1063\n",
      "1069\n",
      "1087\n",
      "1091\n",
      "1093\n",
      "1097\n",
      "1103\n",
      "1109\n",
      "1117\n",
      "1123\n",
      "1129\n",
      "1151\n",
      "1153\n",
      "1163\n",
      "1171\n",
      "1181\n",
      "1187\n",
      "1193\n",
      "1201\n",
      "1213\n",
      "1217\n",
      "1223\n",
      "1229\n",
      "1231\n",
      "1237\n",
      "1249\n",
      "1259\n",
      "1277\n",
      "1279\n",
      "1283\n",
      "1289\n",
      "1291\n",
      "1297\n",
      "1301\n",
      "1303\n",
      "1307\n",
      "1319\n",
      "1321\n",
      "1327\n",
      "1361\n",
      "1367\n",
      "1373\n",
      "1381\n",
      "1399\n",
      "1409\n",
      "1423\n",
      "1427\n",
      "1429\n",
      "1433\n",
      "1439\n",
      "1447\n",
      "1451\n",
      "1453\n",
      "1459\n",
      "1471\n",
      "1481\n",
      "1483\n",
      "1487\n",
      "1489\n",
      "1493\n",
      "1499\n",
      "1511\n",
      "1523\n",
      "1531\n",
      "1543\n",
      "1549\n",
      "1553\n",
      "1559\n",
      "1567\n",
      "1571\n",
      "1579\n",
      "1583\n",
      "1597\n",
      "1601\n",
      "1607\n",
      "1609\n",
      "1613\n",
      "1619\n",
      "1621\n",
      "1627\n",
      "1637\n",
      "1657\n",
      "1663\n",
      "1667\n",
      "1669\n",
      "1693\n",
      "1697\n",
      "1699\n",
      "1709\n",
      "1721\n",
      "1723\n",
      "1733\n",
      "1741\n",
      "1747\n",
      "1753\n",
      "1759\n",
      "1777\n",
      "1783\n",
      "1787\n",
      "1789\n",
      "1801\n",
      "1811\n",
      "1823\n",
      "1831\n",
      "1847\n",
      "1861\n",
      "1867\n",
      "1871\n",
      "1873\n",
      "1877\n",
      "1879\n",
      "1889\n",
      "1901\n",
      "1907\n",
      "1913\n",
      "1931\n",
      "1933\n",
      "1949\n",
      "1951\n",
      "1973\n",
      "1979\n",
      "1987\n",
      "1993\n",
      "1997\n",
      "1999\n",
      "2003\n",
      "2011\n",
      "2017\n",
      "2027\n",
      "2029\n",
      "2039\n",
      "2053\n",
      "2063\n",
      "2069\n",
      "2081\n",
      "2083\n",
      "2087\n",
      "2089\n",
      "2099\n",
      "2111\n",
      "2113\n",
      "2129\n",
      "2131\n",
      "2137\n",
      "2141\n",
      "2143\n",
      "2153\n",
      "2161\n",
      "2179\n",
      "2203\n",
      "2207\n",
      "2213\n",
      "2221\n",
      "2237\n",
      "2239\n",
      "2243\n",
      "2251\n",
      "2267\n",
      "2269\n",
      "2273\n",
      "2281\n",
      "2287\n",
      "2293\n",
      "2297\n",
      "2309\n",
      "2311\n",
      "2333\n",
      "2339\n",
      "2341\n",
      "2347\n",
      "2351\n",
      "2357\n",
      "2371\n",
      "2377\n",
      "2381\n",
      "2383\n",
      "2389\n",
      "2393\n",
      "2399\n",
      "2411\n",
      "2417\n",
      "2423\n",
      "2437\n",
      "2441\n",
      "2447\n",
      "2459\n",
      "2467\n",
      "2473\n",
      "2477\n",
      "2503\n",
      "2521\n",
      "2531\n",
      "2539\n",
      "2543\n",
      "2549\n",
      "2551\n",
      "2557\n",
      "2579\n",
      "2591\n",
      "2593\n",
      "2609\n",
      "2617\n",
      "2621\n",
      "2633\n",
      "2647\n",
      "2657\n",
      "2659\n",
      "2663\n",
      "2671\n",
      "2677\n",
      "2683\n",
      "2687\n",
      "2689\n",
      "2693\n",
      "2699\n",
      "2707\n",
      "2711\n",
      "2713\n",
      "2719\n",
      "2729\n",
      "2731\n",
      "2741\n",
      "2749\n",
      "2753\n",
      "2767\n",
      "2777\n",
      "2789\n",
      "2791\n",
      "2797\n",
      "2801\n",
      "2803\n",
      "2819\n",
      "2833\n",
      "2837\n",
      "2843\n",
      "2851\n",
      "2857\n",
      "2861\n",
      "2879\n",
      "2887\n",
      "2897\n",
      "2903\n",
      "2909\n",
      "2917\n",
      "2927\n",
      "2939\n",
      "2953\n",
      "2957\n",
      "2963\n",
      "2969\n",
      "2971\n",
      "2999\n",
      "3001\n",
      "3011\n",
      "3019\n",
      "3023\n",
      "3037\n",
      "3041\n",
      "3049\n",
      "3061\n",
      "3067\n",
      "3079\n",
      "3083\n",
      "3089\n",
      "3109\n",
      "3119\n",
      "3121\n",
      "3137\n",
      "3163\n",
      "3167\n",
      "3169\n",
      "3181\n",
      "3187\n",
      "3191\n",
      "3203\n",
      "3209\n",
      "3217\n",
      "3221\n",
      "3229\n",
      "3251\n",
      "3253\n",
      "3257\n",
      "3259\n",
      "3271\n",
      "3299\n",
      "3301\n",
      "3307\n",
      "3313\n",
      "3319\n",
      "3323\n",
      "3329\n",
      "3331\n",
      "3343\n",
      "3347\n",
      "3359\n",
      "3361\n",
      "3371\n",
      "3373\n",
      "3389\n",
      "3391\n",
      "3407\n",
      "3413\n",
      "3433\n",
      "3449\n",
      "3457\n",
      "3461\n",
      "3463\n",
      "3467\n",
      "3469\n",
      "3491\n",
      "3499\n",
      "3511\n",
      "3517\n",
      "3527\n",
      "3529\n",
      "3533\n",
      "3539\n",
      "3541\n",
      "3547\n",
      "3557\n",
      "3559\n",
      "3571\n",
      "3581\n",
      "3583\n",
      "3593\n",
      "3607\n",
      "3613\n",
      "3617\n",
      "3623\n",
      "3631\n",
      "3637\n",
      "3643\n",
      "3659\n",
      "3671\n",
      "3673\n",
      "3677\n",
      "3691\n",
      "3697\n",
      "3701\n",
      "3709\n",
      "3719\n",
      "3727\n",
      "3733\n",
      "3739\n",
      "3761\n",
      "3767\n",
      "3769\n",
      "3779\n",
      "3793\n",
      "3797\n",
      "3803\n",
      "3821\n",
      "3823\n",
      "3833\n",
      "3847\n",
      "3851\n",
      "3853\n",
      "3863\n",
      "3877\n",
      "3881\n",
      "3889\n",
      "3907\n",
      "3911\n",
      "3917\n",
      "3919\n",
      "3923\n",
      "3929\n",
      "3931\n",
      "3943\n",
      "3947\n",
      "3967\n",
      "3989\n",
      "4001\n",
      "4003\n",
      "4007\n",
      "4013\n",
      "4019\n",
      "4021\n",
      "4027\n",
      "4049\n",
      "4051\n",
      "4057\n",
      "4073\n",
      "4079\n",
      "4091\n",
      "4093\n",
      "4099\n",
      "4111\n",
      "4127\n",
      "4129\n",
      "4133\n",
      "4139\n",
      "4153\n",
      "4157\n",
      "4159\n",
      "4177\n",
      "4201\n",
      "4211\n",
      "4217\n",
      "4219\n",
      "4229\n",
      "4231\n",
      "4241\n",
      "4243\n",
      "4253\n",
      "4259\n",
      "4261\n",
      "4271\n",
      "4273\n",
      "4283\n",
      "4289\n",
      "4297\n",
      "4327\n",
      "4337\n",
      "4339\n",
      "4349\n",
      "4357\n",
      "4363\n",
      "4373\n",
      "4391\n",
      "4397\n",
      "4409\n",
      "4421\n",
      "4423\n",
      "4441\n",
      "4447\n",
      "4451\n",
      "4457\n",
      "4463\n",
      "4481\n",
      "4483\n",
      "4493\n",
      "4507\n",
      "4513\n",
      "4517\n",
      "4519\n",
      "4523\n",
      "4547\n",
      "4549\n",
      "4561\n",
      "4567\n",
      "4583\n",
      "4591\n",
      "4597\n",
      "4603\n",
      "4621\n",
      "4637\n",
      "4639\n",
      "4643\n",
      "4649\n",
      "4651\n",
      "4657\n",
      "4663\n",
      "4673\n",
      "4679\n",
      "4691\n",
      "4703\n",
      "4721\n",
      "4723\n",
      "4729\n",
      "4733\n",
      "4751\n",
      "4759\n",
      "4783\n",
      "4787\n",
      "4789\n",
      "4793\n",
      "4799\n",
      "4801\n",
      "4813\n",
      "4817\n",
      "4831\n",
      "4861\n",
      "4871\n",
      "4877\n",
      "4889\n",
      "4903\n",
      "4909\n",
      "4919\n",
      "4931\n",
      "4933\n",
      "4937\n",
      "4943\n",
      "4951\n",
      "4957\n",
      "4967\n",
      "4969\n",
      "4973\n",
      "4987\n",
      "4993\n",
      "4999\n",
      "5003\n",
      "5009\n",
      "5011\n",
      "5021\n",
      "5023\n",
      "5039\n",
      "5051\n",
      "5059\n",
      "5077\n",
      "5081\n",
      "5087\n",
      "5099\n",
      "5101\n",
      "5107\n",
      "5113\n",
      "5119\n",
      "5147\n",
      "5153\n",
      "5167\n",
      "5171\n",
      "5179\n",
      "5189\n",
      "5197\n",
      "5209\n",
      "5227\n",
      "5231\n",
      "5233\n",
      "5237\n",
      "5261\n",
      "5273\n",
      "5279\n",
      "5281\n",
      "5297\n",
      "5303\n",
      "5309\n",
      "5323\n",
      "5333\n",
      "5347\n",
      "5351\n",
      "5381\n",
      "5387\n",
      "5393\n",
      "5399\n",
      "5407\n",
      "5413\n",
      "5417\n",
      "5419\n",
      "5431\n",
      "5437\n",
      "5441\n",
      "5443\n",
      "5449\n",
      "5471\n",
      "5477\n",
      "5479\n",
      "5483\n",
      "5501\n",
      "5503\n",
      "5507\n",
      "5519\n",
      "5521\n",
      "5527\n",
      "5531\n",
      "5557\n",
      "5563\n",
      "5569\n",
      "5573\n",
      "5581\n",
      "5591\n",
      "5623\n",
      "5639\n",
      "5641\n",
      "5647\n",
      "5651\n",
      "5653\n",
      "5657\n",
      "5659\n",
      "5669\n",
      "5683\n",
      "5689\n",
      "5693\n",
      "5701\n",
      "5711\n",
      "5717\n",
      "5737\n",
      "5741\n",
      "5743\n",
      "5749\n",
      "5779\n",
      "5783\n",
      "5791\n",
      "5801\n",
      "5807\n",
      "5813\n",
      "5821\n",
      "5827\n",
      "5839\n",
      "5843\n",
      "5849\n",
      "5851\n",
      "5857\n",
      "5861\n",
      "5867\n",
      "5869\n",
      "5879\n",
      "5881\n",
      "5897\n",
      "5903\n",
      "5923\n",
      "5927\n",
      "5939\n",
      "5953\n",
      "5981\n",
      "5987\n",
      "6007\n",
      "6011\n",
      "6029\n",
      "6037\n",
      "6043\n",
      "6047\n",
      "6053\n",
      "6067\n",
      "6073\n",
      "6079\n",
      "6089\n",
      "6091\n",
      "6101\n",
      "6113\n",
      "6121\n",
      "6131\n",
      "6133\n",
      "6143\n",
      "6151\n",
      "6163\n",
      "6173\n",
      "6197\n",
      "6199\n",
      "6203\n",
      "6211\n",
      "6217\n",
      "6221\n",
      "6229\n",
      "6247\n",
      "6257\n",
      "6263\n",
      "6269\n",
      "6271\n",
      "6277\n",
      "6287\n",
      "6299\n",
      "6301\n",
      "6311\n",
      "6317\n",
      "6323\n",
      "6329\n",
      "6337\n",
      "6343\n",
      "6353\n",
      "6359\n",
      "6361\n",
      "6367\n",
      "6373\n",
      "6379\n",
      "6389\n",
      "6397\n",
      "6421\n",
      "6427\n",
      "6449\n",
      "6451\n",
      "6469\n",
      "6473\n",
      "6481\n",
      "6491\n",
      "6521\n",
      "6529\n",
      "6547\n",
      "6551\n",
      "6553\n",
      "6563\n",
      "6569\n",
      "6571\n",
      "6577\n",
      "6581\n",
      "6599\n",
      "6607\n",
      "6619\n",
      "6637\n",
      "6653\n",
      "6659\n",
      "6661\n",
      "6673\n",
      "6679\n",
      "6689\n",
      "6691\n",
      "6701\n",
      "6703\n",
      "6709\n",
      "6719\n",
      "6733\n",
      "6737\n",
      "6761\n",
      "6763\n",
      "6779\n",
      "6781\n",
      "6791\n",
      "6793\n",
      "6803\n",
      "6823\n",
      "6827\n",
      "6829\n",
      "6833\n",
      "6841\n",
      "6857\n",
      "6863\n",
      "6869\n",
      "6871\n",
      "6883\n",
      "6899\n",
      "6907\n",
      "6911\n",
      "6917\n",
      "6947\n",
      "6949\n",
      "6959\n",
      "6961\n",
      "6967\n",
      "6971\n",
      "6977\n",
      "6983\n",
      "6991\n",
      "6997\n",
      "7001\n",
      "7013\n",
      "7019\n",
      "7027\n",
      "7039\n",
      "7043\n",
      "7057\n",
      "7069\n",
      "7079\n",
      "7103\n",
      "7109\n",
      "7121\n",
      "7127\n",
      "7129\n",
      "7151\n",
      "7159\n",
      "7177\n",
      "7187\n",
      "7193\n",
      "7207\n",
      "7211\n",
      "7213\n",
      "7219\n",
      "7229\n",
      "7237\n",
      "7243\n",
      "7247\n",
      "7253\n",
      "7283\n",
      "7297\n",
      "7307\n",
      "7309\n",
      "7321\n",
      "7331\n",
      "7333\n",
      "7349\n",
      "7351\n",
      "7369\n",
      "7393\n",
      "7411\n",
      "7417\n",
      "7433\n",
      "7451\n",
      "7457\n",
      "7459\n",
      "7477\n",
      "7481\n",
      "7487\n",
      "7489\n",
      "7499\n",
      "7507\n",
      "7517\n",
      "7523\n",
      "7529\n",
      "7537\n",
      "7541\n",
      "7547\n",
      "7549\n",
      "7559\n",
      "7561\n",
      "7573\n",
      "7577\n",
      "7583\n",
      "7589\n",
      "7591\n",
      "7603\n",
      "7607\n",
      "7621\n",
      "7639\n",
      "7643\n",
      "7649\n",
      "7669\n",
      "7673\n",
      "7681\n",
      "7687\n",
      "7691\n",
      "7699\n",
      "7703\n",
      "7717\n",
      "7723\n",
      "7727\n",
      "7741\n",
      "7753\n",
      "7757\n",
      "7759\n",
      "7789\n",
      "7793\n",
      "7817\n",
      "7823\n",
      "7829\n",
      "7841\n",
      "7853\n",
      "7867\n",
      "7873\n",
      "7877\n",
      "7879\n",
      "7883\n",
      "7901\n",
      "7907\n",
      "7919\n",
      "7927\n",
      "7933\n",
      "7937\n",
      "7949\n",
      "7951\n",
      "7963\n",
      "7993\n",
      "8009\n",
      "8011\n",
      "8017\n",
      "8039\n",
      "8053\n",
      "8059\n",
      "8069\n",
      "8081\n",
      "8087\n",
      "8089\n",
      "8093\n",
      "8101\n",
      "8111\n",
      "8117\n",
      "8123\n",
      "8147\n",
      "8161\n",
      "8167\n",
      "8171\n",
      "8179\n",
      "8191\n",
      "8209\n",
      "8219\n",
      "8221\n",
      "8231\n",
      "8233\n",
      "8237\n",
      "8243\n",
      "8263\n",
      "8269\n",
      "8273\n",
      "8287\n",
      "8291\n",
      "8293\n",
      "8297\n",
      "8311\n",
      "8317\n",
      "8329\n",
      "8353\n",
      "8363\n",
      "8369\n",
      "8377\n",
      "8387\n",
      "8389\n",
      "8419\n",
      "8423\n",
      "8429\n",
      "8431\n",
      "8443\n",
      "8447\n",
      "8461\n",
      "8467\n",
      "8501\n",
      "8513\n",
      "8521\n",
      "8527\n",
      "8537\n",
      "8539\n",
      "8543\n",
      "8563\n",
      "8573\n",
      "8581\n",
      "8597\n",
      "8599\n",
      "8609\n",
      "8623\n",
      "8627\n",
      "8629\n",
      "8641\n",
      "8647\n",
      "8663\n",
      "8669\n",
      "8677\n",
      "8681\n",
      "8689\n",
      "8693\n",
      "8699\n",
      "8707\n",
      "8713\n",
      "8719\n",
      "8731\n",
      "8737\n",
      "8741\n",
      "8747\n",
      "8753\n",
      "8761\n",
      "8779\n",
      "8783\n",
      "8803\n",
      "8807\n",
      "8819\n",
      "8821\n",
      "8831\n",
      "8837\n",
      "8839\n",
      "8849\n",
      "8861\n",
      "8863\n",
      "8867\n",
      "8887\n",
      "8893\n",
      "8923\n",
      "8929\n",
      "8933\n",
      "8941\n",
      "8951\n",
      "8963\n",
      "8969\n",
      "8971\n",
      "8999\n",
      "9001\n",
      "9007\n",
      "9011\n",
      "9013\n",
      "9029\n",
      "9041\n",
      "9043\n",
      "9049\n",
      "9059\n",
      "9067\n",
      "9091\n",
      "9103\n",
      "9109\n",
      "9127\n",
      "9133\n",
      "9137\n",
      "9151\n",
      "9157\n",
      "9161\n",
      "9173\n",
      "9181\n",
      "9187\n",
      "9199\n",
      "9203\n",
      "9209\n",
      "9221\n",
      "9227\n",
      "9239\n",
      "9241\n",
      "9257\n",
      "9277\n",
      "9281\n",
      "9283\n",
      "9293\n",
      "9311\n",
      "9319\n",
      "9323\n",
      "9337\n",
      "9341\n",
      "9343\n",
      "9349\n",
      "9371\n",
      "9377\n",
      "9391\n",
      "9397\n",
      "9403\n",
      "9413\n",
      "9419\n",
      "9421\n",
      "9431\n",
      "9433\n",
      "9437\n",
      "9439\n",
      "9461\n",
      "9463\n",
      "9467\n",
      "9473\n",
      "9479\n",
      "9491\n",
      "9497\n",
      "9511\n",
      "9521\n",
      "9533\n",
      "9539\n",
      "9547\n",
      "9551\n",
      "9587\n",
      "9601\n",
      "9613\n",
      "9619\n",
      "9623\n",
      "9629\n",
      "9631\n",
      "9643\n",
      "9649\n",
      "9661\n",
      "9677\n",
      "9679\n",
      "9689\n",
      "9697\n",
      "9719\n",
      "9721\n",
      "9733\n",
      "9739\n",
      "9743\n",
      "9749\n",
      "9767\n",
      "9769\n",
      "9781\n",
      "9787\n",
      "9791\n",
      "9803\n",
      "9811\n",
      "9817\n",
      "9829\n",
      "9833\n",
      "9839\n",
      "9851\n",
      "9857\n",
      "9859\n",
      "9871\n",
      "9883\n",
      "9887\n",
      "9901\n",
      "9907\n",
      "9923\n",
      "9929\n",
      "9931\n",
      "9941\n",
      "9949\n",
      "9967\n",
      "9973\n"
     ]
    }
   ],
   "source": [
    "def pirminis(skaicius):\n",
    "    if skaicius < 2:\n",
    "        return False\n",
    "    for i in range (2, skaicius):\n",
    "        if skaicius % i == 0:\n",
    "            return False\n",
    "    return True\n",
    "\n",
    "def pirminiai_iki_n(n):\n",
    "    for skaicius in range(2, n + 1):\n",
    "        if pirminis(skaicius):\n",
    "            yield skaicius\n",
    "\n",
    "pirminio_gen = pirminiai_iki_n(10000)\n",
    "\n",
    "for skaicius in pirminio_gen:\n",
    "    print(skaicius)"
   ]
  }
 ],
 "metadata": {
  "kernelspec": {
   "display_name": "venv",
   "language": "python",
   "name": "python3"
  },
  "language_info": {
   "codemirror_mode": {
    "name": "ipython",
    "version": 3
   },
   "file_extension": ".py",
   "mimetype": "text/x-python",
   "name": "python",
   "nbconvert_exporter": "python",
   "pygments_lexer": "ipython3",
   "version": "3.11.3"
  },
  "orig_nbformat": 4
 },
 "nbformat": 4,
 "nbformat_minor": 2
}
