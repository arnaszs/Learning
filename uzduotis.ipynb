{
 "cells": [
  {
   "attachments": {},
   "cell_type": "markdown",
   "metadata": {},
   "source": [
    "## Pradzia"
   ]
  },
  {
   "cell_type": "code",
   "execution_count": 39,
   "metadata": {},
   "outputs": [
    {
     "name": "stdout",
     "output_type": "stream",
     "text": [
      "AS ESU STUDENTAS\n"
     ]
    }
   ],
   "source": [
    "pasisveikinimas = \"As esu studentas\"\n",
    "print(pasisveikinimas.upper())"
   ]
  },
  {
   "cell_type": "code",
   "execution_count": 40,
   "metadata": {},
   "outputs": [
    {
     "name": "stdout",
     "output_type": "stream",
     "text": [
      "as esu studentas\n"
     ]
    }
   ],
   "source": [
    "pasisveikinimas = \"As esu studentas\"\n",
    "print(pasisveikinimas.lower())"
   ]
  },
  {
   "cell_type": "code",
   "execution_count": 41,
   "metadata": {},
   "outputs": [
    {
     "name": "stdout",
     "output_type": "stream",
     "text": [
      "apelsinas, obuolys\n"
     ]
    }
   ],
   "source": [
    "vaisiai = (\"apelsinas\", \"obuolys\")\n",
    "isvardinti = \", \".join(vaisiai)\n",
    "print(isvardinti)"
   ]
  },
  {
   "cell_type": "code",
   "execution_count": 42,
   "metadata": {},
   "outputs": [
    {
     "name": "stdout",
     "output_type": "stream",
     "text": [
      "['As', 'esu', 'studentas']\n"
     ]
    }
   ],
   "source": [
    "pasisveikinimas = \"As esu studentas\"\n",
    "print(pasisveikinimas.split())\n"
   ]
  },
  {
   "cell_type": "code",
   "execution_count": 43,
   "metadata": {},
   "outputs": [
    {
     "name": "stdout",
     "output_type": "stream",
     "text": [
      "7\n"
     ]
    }
   ],
   "source": [
    "pasisveikinimas = \"As esu studentas\"\n",
    "print(pasisveikinimas.find('studentas'))"
   ]
  },
  {
   "cell_type": "code",
   "execution_count": 44,
   "metadata": {},
   "outputs": [
    {
     "name": "stdout",
     "output_type": "stream",
     "text": [
      "As busiu studentas\n"
     ]
    }
   ],
   "source": [
    "pasisveikinimas = \"As esu studentas\"\n",
    "print(pasisveikinimas.replace('esu', 'busiu'))"
   ]
  },
  {
   "attachments": {},
   "cell_type": "markdown",
   "metadata": {},
   "source": [
    "## Teksto formatavimas"
   ]
  },
  {
   "cell_type": "code",
   "execution_count": 45,
   "metadata": {},
   "outputs": [
    {
     "name": "stdout",
     "output_type": "stream",
     "text": [
      "Sveiki aš esu Arnas, man yra 21metai\n"
     ]
    }
   ],
   "source": [
    "vardas = \"Arnas\"\n",
    "amzius = 21\n",
    "tekstas = \"Sveiki aš \" \"esu \" \\\n",
    "    + vardas + \\\n",
    "    \", man yra \" + str(amzius) + 'metai'\n",
    "print(tekstas)"
   ]
  },
  {
   "cell_type": "code",
   "execution_count": 46,
   "metadata": {},
   "outputs": [
    {
     "name": "stdout",
     "output_type": "stream",
     "text": [
      "Sveiki, as esu Arnas ir man yra 21 metu\n"
     ]
    }
   ],
   "source": [
    "vardas = \"Arnas\"\n",
    "amzius = 21\n",
    "tekstas = \"Sveiki, as esu %s ir man yra %d metu\" % (vardas, amzius)\n",
    "print(tekstas)"
   ]
  },
  {
   "cell_type": "code",
   "execution_count": 47,
   "metadata": {},
   "outputs": [
    {
     "name": "stdout",
     "output_type": "stream",
     "text": [
      "Sveiki, aš esu Arnas, man yra 21 metų\n"
     ]
    }
   ],
   "source": [
    "tekstas = \"Sveiki, aš esu {}, man yra {} metų\".format(vardas, amzius)\n",
    "print(tekstas)"
   ]
  },
  {
   "cell_type": "code",
   "execution_count": 48,
   "metadata": {},
   "outputs": [
    {
     "name": "stdout",
     "output_type": "stream",
     "text": [
      "sveiki, as esu Arnas, man yra 21 metu\n"
     ]
    }
   ],
   "source": [
    "tekstas = f\"sveiki, as esu {vardas}, man yra {amzius} metu\"\n",
    "print(tekstas)"
   ]
  },
  {
   "cell_type": "code",
   "execution_count": 49,
   "metadata": {},
   "outputs": [
    {
     "name": "stdout",
     "output_type": "stream",
     "text": [
      "kaina: 99.95\n"
     ]
    }
   ],
   "source": [
    "kaina = 99.9455\n",
    "print(f\"kaina: {kaina:.2f}\")"
   ]
  },
  {
   "cell_type": "code",
   "execution_count": 50,
   "metadata": {},
   "outputs": [
    {
     "name": "stdout",
     "output_type": "stream",
     "text": [
      "kaina: 0000000100\n",
      "kaina:        100\n",
      "kaina: 100\n"
     ]
    }
   ],
   "source": [
    "print(f\"kaina: {kaina:010.0f}\")\n",
    "print(f\"kaina: {kaina:10.0f}\")\n",
    "print(f\"kaina: {kaina:0.0f}\")"
   ]
  },
  {
   "attachments": {},
   "cell_type": "markdown",
   "metadata": {},
   "source": [
    "## uzduotis sarasai"
   ]
  },
  {
   "cell_type": "code",
   "execution_count": 51,
   "metadata": {},
   "outputs": [
    {
     "name": "stdout",
     "output_type": "stream",
     "text": [
      "guliasas\n"
     ]
    }
   ],
   "source": [
    "sarasas = [\"pica\", \"obuolys\", \"burgeris\", \"kotletas\", \"makaronai\", \"guliasas\"]\n",
    "print(sarasas[-1])"
   ]
  },
  {
   "cell_type": "code",
   "execution_count": 52,
   "metadata": {},
   "outputs": [
    {
     "name": "stdout",
     "output_type": "stream",
     "text": [
      "['pica', 'obuolys', 'burgeris']\n",
      "['makaronai', 'guliasas']\n",
      "['obuolys', 'burgeris', 'kotletas']\n",
      "['pica', 'burgeris', 'makaronai']\n"
     ]
    }
   ],
   "source": [
    "print(sarasas[:3])\n",
    "print(sarasas[-2:])\n",
    "print(sarasas[1:4])\n",
    "print(sarasas[::2])"
   ]
  },
  {
   "cell_type": "code",
   "execution_count": 53,
   "metadata": {},
   "outputs": [],
   "source": [
    "sarasas.append(\"suris\")"
   ]
  },
  {
   "cell_type": "code",
   "execution_count": 54,
   "metadata": {},
   "outputs": [
    {
     "name": "stdout",
     "output_type": "stream",
     "text": [
      "['pica', 'obuolys', 'burgeris', 'kotletas', 'makaronai', 'guliasas', 'suris']\n"
     ]
    }
   ],
   "source": [
    "print(sarasas)"
   ]
  },
  {
   "cell_type": "code",
   "execution_count": 55,
   "metadata": {},
   "outputs": [
    {
     "ename": "ValueError",
     "evalue": "list.remove(x): x not in list",
     "output_type": "error",
     "traceback": [
      "\u001b[1;31m---------------------------------------------------------------------------\u001b[0m",
      "\u001b[1;31mValueError\u001b[0m                                Traceback (most recent call last)",
      "Cell \u001b[1;32mIn[55], line 1\u001b[0m\n\u001b[1;32m----> 1\u001b[0m sarasas\u001b[39m.\u001b[39;49mremove(\u001b[39m'\u001b[39;49m\u001b[39msultys\u001b[39;49m\u001b[39m'\u001b[39;49m)\n\u001b[0;32m      2\u001b[0m \u001b[39mprint\u001b[39m(sarasas)\n",
      "\u001b[1;31mValueError\u001b[0m: list.remove(x): x not in list"
     ]
    }
   ],
   "source": [
    "sarasas.remove('sultys')\n",
    "print(sarasas)"
   ]
  },
  {
   "cell_type": "code",
   "execution_count": null,
   "metadata": {},
   "outputs": [
    {
     "name": "stdout",
     "output_type": "stream",
     "text": [
      "4\n"
     ]
    }
   ],
   "source": [
    "kur_makaronai = sarasas.index(\"makaronai\")\n",
    "print(kur_makaronai)"
   ]
  },
  {
   "cell_type": "code",
   "execution_count": null,
   "metadata": {},
   "outputs": [
    {
     "name": "stdout",
     "output_type": "stream",
     "text": [
      "['s', 's', 'a', 's', 'a', 'i', 'l', 'u', 'g', 's', 's', 'a', 's', 'a', 'i', 'l', 'u', 'g', 'guliasas', 'makaronai', 'kotletas', 'sultys', 'burgeris', 'obuolys']\n"
     ]
    }
   ],
   "source": [
    "sarasas.reverse()\n",
    "print(sarasas)"
   ]
  },
  {
   "cell_type": "code",
   "execution_count": null,
   "metadata": {},
   "outputs": [
    {
     "name": "stdout",
     "output_type": "stream",
     "text": [
      "24\n"
     ]
    }
   ],
   "source": [
    "print(len(sarasas))"
   ]
  },
  {
   "cell_type": "code",
   "execution_count": null,
   "metadata": {},
   "outputs": [
    {
     "name": "stdout",
     "output_type": "stream",
     "text": [
      "False\n"
     ]
    }
   ],
   "source": [
    "print(\"apelsinas\" in sarasas)"
   ]
  },
  {
   "attachments": {},
   "cell_type": "markdown",
   "metadata": {},
   "source": [
    "## Zodynai"
   ]
  },
  {
   "cell_type": "code",
   "execution_count": null,
   "metadata": {},
   "outputs": [
    {
     "name": "stdout",
     "output_type": "stream",
     "text": [
      "{'Reksas': 4, 'Bingo': 5, 'Grantas': 1}\n"
     ]
    }
   ],
   "source": [
    "zodynas = {'Reksas': 4, 'Bingo': 5, 'Grantas': 1}\n",
    "print(zodynas)"
   ]
  },
  {
   "cell_type": "code",
   "execution_count": null,
   "metadata": {},
   "outputs": [
    {
     "name": "stdout",
     "output_type": "stream",
     "text": [
      "5\n"
     ]
    }
   ],
   "source": [
    "print(zodynas['Bingo'])"
   ]
  },
  {
   "cell_type": "code",
   "execution_count": null,
   "metadata": {},
   "outputs": [
    {
     "name": "stdout",
     "output_type": "stream",
     "text": [
      "{'Reksas': 4, 'Bingo': 5, 'Grantas': 1, 'Sniegius': 2}\n"
     ]
    }
   ],
   "source": [
    "zodynas['Sniegius'] = 2\n",
    "print(zodynas)"
   ]
  },
  {
   "cell_type": "code",
   "execution_count": null,
   "metadata": {},
   "outputs": [
    {
     "name": "stdout",
     "output_type": "stream",
     "text": [
      "{'Reksas': 4, 'Bingo': 4, 'Grantas': 1, 'Sniegius': 2}\n"
     ]
    }
   ],
   "source": [
    "zodynas['Bingo'] = 4\n",
    "print(zodynas)"
   ]
  },
  {
   "cell_type": "code",
   "execution_count": null,
   "metadata": {},
   "outputs": [
    {
     "name": "stdout",
     "output_type": "stream",
     "text": [
      "{'Bingo': 4, 'Grantas': 1, 'Sniegius': 2}\n"
     ]
    }
   ],
   "source": [
    "del zodynas['Reksas']\n",
    "print(zodynas)"
   ]
  },
  {
   "cell_type": "code",
   "execution_count": null,
   "metadata": {},
   "outputs": [
    {
     "name": "stdout",
     "output_type": "stream",
     "text": [
      "dict_keys(['Bingo', 'Grantas', 'Sniegius'])\n",
      "dict_values([4, 1, 2])\n"
     ]
    }
   ],
   "source": [
    "vardai = zodynas.keys()\n",
    "print(vardai)\n",
    "amzius = zodynas.values()\n",
    "print(amzius)"
   ]
  },
  {
   "cell_type": "code",
   "execution_count": null,
   "metadata": {},
   "outputs": [
    {
     "name": "stdout",
     "output_type": "stream",
     "text": [
      "dict_items([('Bingo', 4), ('Grantas', 1), ('Sniegius', 2)])\n",
      "1\n"
     ]
    }
   ],
   "source": [
    "augintiniu_sarasas = zodynas.items()\n",
    "print(augintiniu_sarasas)\n",
    "suo = zodynas.get('Grantas')\n",
    "print(suo)"
   ]
  },
  {
   "attachments": {},
   "cell_type": "markdown",
   "metadata": {},
   "source": [
    "## For ciklai\n"
   ]
  },
  {
   "cell_type": "code",
   "execution_count": null,
   "metadata": {},
   "outputs": [
    {
     "name": "stdout",
     "output_type": "stream",
     "text": [
      "A\n",
      "B\n",
      "C\n",
      "D\n",
      "E\n",
      "F\n"
     ]
    }
   ],
   "source": [
    "sarasas = list('ABCDEF')\n",
    "for raide in sarasas:\n",
    "    print(raide)"
   ]
  },
  {
   "cell_type": "code",
   "execution_count": null,
   "metadata": {},
   "outputs": [
    {
     "name": "stdout",
     "output_type": "stream",
     "text": [
      "1: , simbolių kiekis: 0\n",
      "2: , simbolių kiekis: 0\n",
      "3: , simbolių kiekis: 0\n",
      "4: , simbolių kiekis: 0\n",
      "5: , simbolių kiekis: 0\n",
      "Žodžių kiekis: 5\n"
     ]
    }
   ],
   "source": [
    "zodziai = []\n",
    "\n",
    "for zodis in range(5):\n",
    "    zodziai.append(input('Įveskite žodį: '))\n",
    "\n",
    "for numeris, zodis in enumerate(zodziai):\n",
    "    print(f'{numeris + 1}: {zodis}, simbolių kiekis: {len(zodis)}')\n",
    "print('Žodžių kiekis:', len(zodziai))"
   ]
  },
  {
   "cell_type": "code",
   "execution_count": null,
   "metadata": {},
   "outputs": [
    {
     "name": "stdout",
     "output_type": "stream",
     "text": [
      "Keliamieji metai\n"
     ]
    }
   ],
   "source": [
    "metai = int(input('Įveskite metus: '))\n",
    "if (metai % 400 == 0) or (metai % 100 != 0 and metai % 4 == 0):\n",
    "    print('Keliamieji metai')\n",
    "else:\n",
    "    print('Nekeliamieji metai')"
   ]
  },
  {
   "cell_type": "code",
   "execution_count": null,
   "metadata": {},
   "outputs": [
    {
     "name": "stdout",
     "output_type": "stream",
     "text": [
      "2000\n",
      "2004\n",
      "2008\n",
      "2012\n",
      "2016\n",
      "2020\n",
      "2024\n",
      "2028\n",
      "2032\n",
      "2036\n",
      "2040\n",
      "2044\n",
      "2048\n",
      "2052\n",
      "2056\n",
      "2060\n",
      "2064\n",
      "2068\n",
      "2072\n",
      "2076\n",
      "2080\n",
      "2084\n",
      "2088\n",
      "2092\n",
      "2096\n"
     ]
    }
   ],
   "source": [
    "for metai in range(2000, 2100):\n",
    "    if metai % 400 == 0:\n",
    "        print(metai)\n",
    "    elif metai % 100 == 0:\n",
    "        continue\n",
    "    elif metai % 4 == 0:\n",
    "        print(metai)\n",
    "    else:\n",
    "        continue"
   ]
  },
  {
   "cell_type": "markdown",
   "metadata": {},
   "source": []
  },
  {
   "attachments": {},
   "cell_type": "markdown",
   "metadata": {},
   "source": [
    "## While ciklai"
   ]
  },
  {
   "cell_type": "code",
   "execution_count": null,
   "metadata": {},
   "outputs": [
    {
     "name": "stdout",
     "output_type": "stream",
     "text": [
      "10\n",
      "9\n",
      "8\n",
      "7\n",
      "6\n",
      "5\n",
      "4\n",
      "3\n",
      "2\n",
      "1\n",
      "0\n",
      "-1\n"
     ]
    }
   ],
   "source": [
    "8 = 10\n",
    "while 8 >= -1:\n",
    "    print(8)\n",
    "    8 -=1"
   ]
  },
  {
   "cell_type": "code",
   "execution_count": null,
   "metadata": {},
   "outputs": [
    {
     "name": "stdout",
     "output_type": "stream",
     "text": [
      "4\n",
      "3\n",
      "2\n",
      "1\n",
      "Pratęsiam ciklą nes yra skaičius 0\n",
      "-1\n",
      "-2\n",
      "-3\n",
      "-4\n",
      "Sustabdom ciklą nes yra skaičius -5\n"
     ]
    }
   ],
   "source": [
    "8 = 5\n",
    "while 8 >= -10:\n",
    "    8 -= 1\n",
    "    if 8 == -5:\n",
    "        print('Sustabdom ciklą nes yra skaičius -5')\n",
    "        break\n",
    "    elif 8 == 0:\n",
    "        print('Pratęsiam ciklą nes yra skaičius 0')\n",
    "        continue\n",
    "    print(8)"
   ]
  },
  {
   "cell_type": "code",
   "execution_count": null,
   "metadata": {
    "tags": []
   },
   "outputs": [
    {
     "name": "stdout",
     "output_type": "stream",
     "text": [
      "2\n",
      "7\n",
      "14\n",
      "16\n"
     ]
    },
    {
     "ename": "ValueError",
     "evalue": "invalid literal for int() with base 10: ''",
     "output_type": "error",
     "traceback": [
      "\u001b[1;31m---------------------------------------------------------------------------\u001b[0m",
      "\u001b[1;31mValueError\u001b[0m                                Traceback (most recent call last)",
      "Cell \u001b[1;32mIn[29], line 4\u001b[0m\n\u001b[0;32m      1\u001b[0m skaiciai \u001b[39m=\u001b[39m \u001b[39m0\u001b[39m\n\u001b[0;32m      3\u001b[0m \u001b[39mwhile\u001b[39;00m \u001b[39mTrue\u001b[39;00m:\n\u001b[1;32m----> 4\u001b[0m     skaicius \u001b[39m=\u001b[39m \u001b[39mint\u001b[39;49m(\u001b[39minput\u001b[39;49m(\u001b[39m'\u001b[39;49m\u001b[39mĮveskite skaičių: \u001b[39;49m\u001b[39m'\u001b[39;49m))\n\u001b[0;32m      5\u001b[0m     \u001b[39mif\u001b[39;00m skaicius \u001b[39m<\u001b[39m \u001b[39m0\u001b[39m:\n\u001b[0;32m      6\u001b[0m         \u001b[39mbreak\u001b[39;00m\n",
      "\u001b[1;31mValueError\u001b[0m: invalid literal for int() with base 10: ''"
     ]
    }
   ],
   "source": [
    "skaiciai = 0\n",
    "\n",
    "while True:\n",
    "    8 = int(input('Įveskite skaičių: '))\n",
    "    if 8 < 0:\n",
    "        break\n",
    "    skaiciai += 8\n",
    "    print(skaiciai)\n"
   ]
  },
  {
   "attachments": {},
   "cell_type": "markdown",
   "metadata": {},
   "source": [
    "## Tuples\n"
   ]
  },
  {
   "cell_type": "code",
   "execution_count": null,
   "metadata": {},
   "outputs": [
    {
     "name": "stdout",
     "output_type": "stream",
     "text": [
      "('ACDC', 'Capaldi', 'chop suey', 'rammstein')\n"
     ]
    }
   ],
   "source": [
    "tuples = ('ACDC', 'Capaldi', 'chop suey', 'rammstein')\n",
    "print(tuples)"
   ]
  },
  {
   "cell_type": "code",
   "execution_count": null,
   "metadata": {},
   "outputs": [
    {
     "name": "stdout",
     "output_type": "stream",
     "text": [
      "('ACDC', 'Capaldi', 'chop suey', 'rammstein', 'Eminem', '50 Cent', 'Jean Marc')\n"
     ]
    }
   ],
   "source": [
    "tuples2 = ('Eminem', '50 Cent', 'Jean Marc')\n",
    "grupes = tuples + tuples2\n",
    "print(grupes)"
   ]
  },
  {
   "cell_type": "code",
   "execution_count": null,
   "metadata": {},
   "outputs": [
    {
     "name": "stdout",
     "output_type": "stream",
     "text": [
      "ACDC\n",
      "chop suey\n",
      "Jean Marc\n"
     ]
    }
   ],
   "source": [
    "print(grupes[0])\n",
    "print(grupes[2])\n",
    "print(grupes[-1])"
   ]
  },
  {
   "cell_type": "code",
   "execution_count": null,
   "metadata": {},
   "outputs": [
    {
     "name": "stdout",
     "output_type": "stream",
     "text": [
      "('ACDC', 'chop suey', 'Eminem', 'Jean Marc')\n"
     ]
    }
   ],
   "source": [
    "print(grupes[::2])"
   ]
  },
  {
   "cell_type": "code",
   "execution_count": null,
   "metadata": {},
   "outputs": [
    {
     "name": "stdout",
     "output_type": "stream",
     "text": [
      "1\n",
      "0\n"
     ]
    }
   ],
   "source": [
    "print(grupes.count('Eminem'))\n",
    "indeksas = grupes.index('ACDC')\n",
    "print(indeksas)"
   ]
  },
  {
   "cell_type": "code",
   "execution_count": null,
   "metadata": {},
   "outputs": [
    {
     "name": "stdout",
     "output_type": "stream",
     "text": [
      "False\n"
     ]
    }
   ],
   "source": [
    "print('Cooper' in grupes)"
   ]
  },
  {
   "cell_type": "code",
   "execution_count": null,
   "metadata": {},
   "outputs": [
    {
     "name": "stdout",
     "output_type": "stream",
     "text": [
      "Eminem\n",
      "Capaldi\n",
      "rammstein\n",
      "ACDC\n",
      "50 Cent\n",
      "Jean Marc\n",
      "chop suey\n"
     ]
    }
   ],
   "source": [
    "bonus = tuple(set(grupes))\n",
    "\n",
    "for grupe in bonus:\n",
    "    print(grupe)"
   ]
  },
  {
   "attachments": {},
   "cell_type": "markdown",
   "metadata": {},
   "source": [
    "## Aibes"
   ]
  },
  {
   "cell_type": "code",
   "execution_count": null,
   "metadata": {},
   "outputs": [
    {
     "name": "stdout",
     "output_type": "stream",
     "text": [
      "{1, 2, 3, 4, 5, 6, 7, 8, 9}\n"
     ]
    }
   ],
   "source": [
    "aibe = {1, 2, 3, 4, 5, 6, 7, 8}\n",
    "aibe.add(9)\n",
    "print(aibe)"
   ]
  },
  {
   "cell_type": "code",
   "execution_count": null,
   "metadata": {},
   "outputs": [
    {
     "name": "stdout",
     "output_type": "stream",
     "text": [
      "{54, 8, 9, 11, 62, 15}\n"
     ]
    }
   ],
   "source": [
    "aibe1 = {1, 8, 9, 11, 54, 15, 62}\n",
    "aibe1.remove(1)\n",
    "print(aibe1)"
   ]
  },
  {
   "cell_type": "code",
   "execution_count": null,
   "metadata": {},
   "outputs": [
    {
     "name": "stdout",
     "output_type": "stream",
     "text": [
      "{8, 9}\n"
     ]
    }
   ],
   "source": [
    "abi_aibes = aibe.intersection(aibe1)\n",
    "print(abi_aibes)"
   ]
  },
  {
   "cell_type": "code",
   "execution_count": null,
   "metadata": {},
   "outputs": [
    {
     "name": "stdout",
     "output_type": "stream",
     "text": [
      "{1, 2, 3, 4, 5, 6, 7}\n"
     ]
    }
   ],
   "source": [
    "nauja = aibe.difference(aibe1)\n",
    "print(nauja)"
   ]
  },
  {
   "cell_type": "code",
   "execution_count": null,
   "metadata": {},
   "outputs": [
    {
     "name": "stdout",
     "output_type": "stream",
     "text": [
      "{62, 11, 54, 15}\n"
     ]
    }
   ],
   "source": [
    "nauja1 = aibe1.difference(aibe)\n",
    "print(nauja1)"
   ]
  },
  {
   "cell_type": "code",
   "execution_count": null,
   "metadata": {},
   "outputs": [
    {
     "name": "stdout",
     "output_type": "stream",
     "text": [
      "{2916, 121, 3844, 225}\n"
     ]
    }
   ],
   "source": [
    "nauja_kvadratu = {x**2 for x in nauja1}\n",
    "print(nauja_kvadratu)"
   ]
  },
  {
   "cell_type": "markdown",
   "metadata": {},
   "source": []
  },
  {
   "cell_type": "code",
   "execution_count": null,
   "metadata": {},
   "outputs": [
    {
     "ename": "SyntaxError",
     "evalue": "(unicode error) 'unicodeescape' codec can't decode bytes in position 0-1: truncated \\UXXXXXXXX escape (3430644149.py, line 1)",
     "output_type": "error",
     "traceback": [
      "\u001b[1;36m  Cell \u001b[1;32mIn[58], line 1\u001b[1;36m\u001b[0m\n\u001b[1;33m    simboliai = [\"\\U+1F0A1:\\U+1F0AE\"]\u001b[0m\n\u001b[1;37m                                    ^\u001b[0m\n\u001b[1;31mSyntaxError\u001b[0m\u001b[1;31m:\u001b[0m (unicode error) 'unicodeescape' codec can't decode bytes in position 0-1: truncated \\UXXXXXXXX escape\n"
     ]
    }
   ],
   "source": []
  },
  {
   "attachments": {},
   "cell_type": "markdown",
   "metadata": {},
   "source": [
    "## funkcijos"
   ]
  },
  {
   "cell_type": "code",
   "execution_count": null,
   "metadata": {},
   "outputs": [
    {
     "name": "stdout",
     "output_type": "stream",
     "text": [
      "Įvestas skaičius yra nelyginis\n"
     ]
    }
   ],
   "source": [
    "def lyginis_nelyginis(skaicius):\n",
    "    if skaicius % 2 == 0:\n",
    "        print(\"Įvestas skaičius yra lyginis\")\n",
    "    else:\n",
    "        print(\"Įvestas skaičius yra nelyginis\") \n",
    "lyginis_nelyginis(7)"
   ]
  },
  {
   "cell_type": "code",
   "execution_count": null,
   "metadata": {},
   "outputs": [
    {
     "name": "stdout",
     "output_type": "stream",
     "text": [
      "skaicius yra teigiamas\n"
     ]
    }
   ],
   "source": [
    "def ar_teigiamas(skaicius):\n",
    "    if skaicius > 0:\n",
    "        print(\"skaicius yra teigiamas\")\n",
    "    else:\n",
    "        print('skaicius nera teigiamas')\n",
    "ar_teigiamas(8)"
   ]
  },
  {
   "cell_type": "code",
   "execution_count": null,
   "metadata": {},
   "outputs": [
    {
     "name": "stdout",
     "output_type": "stream",
     "text": [
      "Įvestas skaičius nėra didesnis nei 100.\n"
     ]
    }
   ],
   "source": [
    "def ar_daugiau_nei(skaicius, riba):\n",
    "    if skaicius > riba:\n",
    "        print(f\"Įvestas skaičius yra didesnis nei {riba}.\")\n",
    "    else:\n",
    "        print(f\"Įvestas skaičius nėra didesnis nei {riba}.\")\n",
    "ar_daugiau_nei(17, 100)\n"
   ]
  },
  {
   "attachments": {},
   "cell_type": "markdown",
   "metadata": {},
   "source": [
    "## return"
   ]
  },
  {
   "cell_type": "code",
   "execution_count": null,
   "metadata": {},
   "outputs": [
    {
     "data": {
      "text/plain": [
       "'syloubo'"
      ]
     },
     "execution_count": 20,
     "metadata": {},
     "output_type": "execute_result"
    }
   ],
   "source": [
    "def sarasas_atbulai(sarasas):\n",
    "    return sarasas[::-1]\n",
    "sarasas_atbulai('obuolys')\n"
   ]
  },
  {
   "cell_type": "code",
   "execution_count": null,
   "metadata": {},
   "outputs": [
    {
     "name": "stdout",
     "output_type": "stream",
     "text": [
      "6.0\n"
     ]
    }
   ],
   "source": [
    "def trikampio_plotas(a, b, c):\n",
    "    s = (a + b + c) / 2\n",
    "    plotas = (s * (s - a) * (s - b) * (s - c)) ** 0.5\n",
    "    return plotas\n",
    "\n",
    "a = 3\n",
    "b = 4\n",
    "c = 5\n",
    "trikampio_plotas = trikampio_plotas(a, b, c)\n",
    "print(trikampio_plotas)"
   ]
  },
  {
   "cell_type": "code",
   "execution_count": null,
   "metadata": {},
   "outputs": [
    {
     "name": "stdout",
     "output_type": "stream",
     "text": [
      "['Labas']\n"
     ]
    }
   ],
   "source": [
    "def sarasas_zodziu(sakinys, ilgis):\n",
    "    zodziai = sakinys.split()\n",
    "    ilgio_zodziai = []\n",
    "    for zodis in zodziai:\n",
    "        if len(zodis) == ilgis:\n",
    "            ilgio_zodziai.append(zodis)\n",
    "            return ilgio_zodziai\n",
    "\n",
    "sakinys = \"Labas vakaras, kaip praejo jusu diena?\"\n",
    "ilgis = 5\n",
    "zodziai = sarasas_zodziu(sakinys, ilgis)\n",
    "print(zodziai)\n"
   ]
  },
  {
   "cell_type": "code",
   "execution_count": null,
   "metadata": {},
   "outputs": [
    {
     "name": "stdout",
     "output_type": "stream",
     "text": [
      "988\n"
     ]
    }
   ],
   "source": [
    "def didziausias_skaicius(skaiciai):\n",
    "    didziausias = skaiciai[0]\n",
    "    for skaicius in skaiciai:\n",
    "        if skaicius > didziausias:\n",
    "            didziausias = skaicius\n",
    "    return didziausias\n",
    "\n",
    "skaiciai = [496, 242, 724, 153, 988, 542]\n",
    "didziausias = didziausias_skaicius(skaiciai)\n",
    "print(didziausias)  "
   ]
  },
  {
   "cell_type": "code",
   "execution_count": null,
   "metadata": {},
   "outputs": [
    {
     "name": "stdout",
     "output_type": "stream",
     "text": [
      "['anvil']\n"
     ]
    }
   ],
   "source": [
    "def prasideda_raide(zodziai, raide):\n",
    "    raides_zodziai = []\n",
    "    for zodis in zodziai:\n",
    "        if zodis[0] == raide:\n",
    "            raides_zodziai.append(zodis)\n",
    "    return raides_zodziai\n",
    "\n",
    "zodziai = ['anvil', 'shroom', 'grill', 'burger', 'freshavocado']\n",
    "raide = 'a'\n",
    "zodziai_a = prasideda_raide(zodziai, raide)\n",
    "print(zodziai_a)"
   ]
  },
  {
   "cell_type": "code",
   "execution_count": null,
   "metadata": {},
   "outputs": [
    {
     "name": "stdout",
     "output_type": "stream",
     "text": [
      "[]\n"
     ]
    }
   ],
   "source": [
    "def ilgis_lyginis(tekstas):\n",
    "    zodziai = tekstas.split()\n",
    "    lyginio_ilgio_zodziai = []\n",
    "    for zodis in zodziai:\n",
    "        if len(zodis) % 2 == 0:\n",
    "            lyginio_ilgio_zodziai.append(zodis)\n",
    "    return lyginio_ilgio_zodziai\n",
    "\n",
    "tekstas = \"Labas vakaras draugai\"\n",
    "lyginio_ilgio_zodziai = ilgis_lyginis(tekstas)\n",
    "print(lyginio_ilgio_zodziai)"
   ]
  },
  {
   "attachments": {},
   "cell_type": "markdown",
   "metadata": {},
   "source": [
    "## Nebutini argumentai"
   ]
  },
  {
   "cell_type": "code",
   "execution_count": null,
   "metadata": {},
   "outputs": [
    {
     "data": {
      "text/plain": [
       "50.24"
      ]
     },
     "execution_count": 37,
     "metadata": {},
     "output_type": "execute_result"
    }
   ],
   "source": [
    "def apskritimo_plotas(apskritimo_spindulys, pi):\n",
    "    plotas = pi * (apskritimo_spindulys ** 2)\n",
    "    return plotas\n",
    "\n",
    "apskritimo_plotas(4, 3.14)"
   ]
  },
  {
   "cell_type": "code",
   "execution_count": null,
   "metadata": {},
   "outputs": [
    {
     "name": "stdout",
     "output_type": "stream",
     "text": [
      "{'atstumas': 5400, 'sanaudos': 378.0, 'islaidos': 748.4399999999999}\n"
     ]
    }
   ],
   "source": [
    "def keliones_informacija(keliones_trukme, greitis, vartojimas, kuro_kaina):\n",
    "    atstumas = keliones_trukme * greitis\n",
    "    sanaudos = atstumas * vartojimas / 100\n",
    "    islaidos = sanaudos * kuro_kaina\n",
    "\n",
    "    return {\n",
    "        'atstumas': atstumas,\n",
    "        'sanaudos': sanaudos,\n",
    "        'islaidos': islaidos\n",
    "    }\n",
    "\n",
    "x = keliones_informacija(60, 90, 7, 1.98)\n",
    "print(x)"
   ]
  },
  {
   "attachments": {},
   "cell_type": "markdown",
   "metadata": {},
   "source": [
    "## Args Kwargs"
   ]
  },
  {
   "cell_type": "code",
   "execution_count": null,
   "metadata": {},
   "outputs": [
    {
     "name": "stdout",
     "output_type": "stream",
     "text": [
      "74\n"
     ]
    }
   ],
   "source": [
    "def didziausias(*args):\n",
    "    if len(args) == 0:\n",
    "        return None\n",
    "    didziausia_reiksme = args[0]\n",
    "    for arg in args:\n",
    "        if arg > didziausia_reiksme:\n",
    "            didziausia_reiksme = arg\n",
    "    return didziausia_reiksme\n",
    "\n",
    "print(didziausias(1, 3, 2, 47, 52, 74, 13, 56, 71, 59, 43))"
   ]
  },
  {
   "cell_type": "code",
   "execution_count": null,
   "metadata": {},
   "outputs": [
    {
     "name": "stdout",
     "output_type": "stream",
     "text": [
      "{'vardas': 'Jonas', 'amzius': 30, 'miestas': 'Vilnius', 'metai': 2023}\n"
     ]
    }
   ],
   "source": [
    "def raktai(**kwargs):\n",
    "    nurodyti_raktai = {}\n",
    "    for key in kwargs:\n",
    "        if key in ['vardas', 'amzius', 'miestas', 'metai']:\n",
    "            nurodyti_raktai[key] = kwargs[key]\n",
    "    return nurodyti_raktai\n",
    "\n",
    "print(raktai(vardas=\"Jonas\", amzius=30, miestas=\"Vilnius\", metai=2023))"
   ]
  },
  {
   "cell_type": "code",
   "execution_count": null,
   "metadata": {},
   "outputs": [
    {
     "data": {
      "text/plain": [
       "['vienas', 'kitas', 7]"
      ]
     },
     "execution_count": 43,
     "metadata": {},
     "output_type": "execute_result"
    }
   ],
   "source": [
    "def sujungs(*args, **kwargs):\n",
    "    visi_elementai = list(args)\n",
    "    visi_elementai += list(kwargs.values())\n",
    "    return visi_elementai\n",
    "\n",
    "sujungs('vienas', 'kitas', 7)"
   ]
  },
  {
   "attachments": {},
   "cell_type": "markdown",
   "metadata": {},
   "source": [
    "## Anonimines funkcijos"
   ]
  },
  {
   "cell_type": "code",
   "execution_count": null,
   "metadata": {},
   "outputs": [
    {
     "name": "stdout",
     "output_type": "stream",
     "text": [
      "[50, 11, 56, 15]\n"
     ]
    }
   ],
   "source": [
    "skaiciai = [10, 50, 11, 9, 7, 56, 15]\n",
    "daugiau_nei_10 = list(filter(lambda x: x > 10, skaiciai))\n",
    "print(daugiau_nei_10)"
   ]
  },
  {
   "cell_type": "code",
   "execution_count": null,
   "metadata": {},
   "outputs": [
    {
     "name": "stdout",
     "output_type": "stream",
     "text": [
      "12.5\n"
     ]
    }
   ],
   "source": [
    "skaiciai = [1, 2, 4, 5, 9, 54]\n",
    "vidurkis = lambda x: sum(x) / len(x)\n",
    "\n",
    "print(vidurkis(skaiciai))"
   ]
  },
  {
   "cell_type": "code",
   "execution_count": null,
   "metadata": {},
   "outputs": [
    {
     "name": "stdout",
     "output_type": "stream",
     "text": [
      "30\n"
     ]
    }
   ],
   "source": [
    "didziausias_skaicius = lambda x, y, z: max(x, y, z)\n",
    "\n",
    "print(didziausias_skaicius(10, 30, 20))"
   ]
  },
  {
   "attachments": {},
   "cell_type": "markdown",
   "metadata": {},
   "source": [
    "## Objektai ir klases"
   ]
  },
  {
   "cell_type": "code",
   "execution_count": null,
   "metadata": {},
   "outputs": [],
   "source": [
    "class Darbuotojas:\n",
    "    def __init__(self, vardas, pavarde, pareigos, atlyginimas=3500):\n",
    "        self.vardas = vardas\n",
    "        self.pavarde = pavarde\n",
    "        self.pareigos = pareigos\n",
    "        self.atlyginimas = atlyginimas\n",
    "\n",
    "        "
   ]
  },
  {
   "cell_type": "code",
   "execution_count": null,
   "metadata": {},
   "outputs": [],
   "source": [
    "def __str__(self):\n",
    "        return f'{self.vardas} {self.pavarde}, pareigos: {self.pareigos}, atlyginimas: {self.atlyginimas}'"
   ]
  },
  {
   "cell_type": "code",
   "execution_count": 56,
   "metadata": {},
   "outputs": [],
   "source": [
    "darbuotojas = Darbuotojas('Andrius', 'Žilinskas', 'Programeris', 3500)\n"
   ]
  },
  {
   "cell_type": "code",
   "execution_count": 57,
   "metadata": {},
   "outputs": [
    {
     "name": "stdout",
     "output_type": "stream",
     "text": [
      "Darbuotojo pareigos:  Programeris\n",
      "Darbuotojo atlyginimas:  3500\n"
     ]
    }
   ],
   "source": [
    "print('Darbuotojo pareigos: ', darbuotojas.pareigos)\n",
    "print('Darbuotojo atlyginimas: ', darbuotojas.atlyginimas)"
   ]
  },
  {
   "cell_type": "code",
   "execution_count": null,
   "metadata": {},
   "outputs": [],
   "source": [
    "darbuotojas.atlyginimas = 3000"
   ]
  },
  {
   "cell_type": "code",
   "execution_count": 70,
   "metadata": {},
   "outputs": [
    {
     "name": "stdout",
     "output_type": "stream",
     "text": [
      "darbuotojas:  {<__main__.Darbuotojas object at 0x0000028861BE4D10>}\n"
     ]
    }
   ],
   "source": [
    "print('darbuotojas: ', darbuotojas)"
   ]
  },
  {
   "cell_type": "code",
   "execution_count": 104,
   "metadata": {},
   "outputs": [],
   "source": [
    "class Gyvunas():\n",
    "    def __init__(self, vardas, amzius, svoris):\n",
    "        self.vardas = vardas\n",
    "        self.amzius = amzius\n",
    "        self.svoris = svoris\n",
    "\n",
    "    def padidinti_svori(self, kiek):\n",
    "        self.svoris += kiek\n",
    "    \n",
    "    def sumazinti_svori(self, kiek):\n",
    "        self.svoris -= kiek\n",
    "\n",
    "    def padidejes_amzius(self):\n",
    "        self.amzius += 1\n",
    "\n",
    "    def __str__(self):\n",
    "        return f'gyvūnas vardu: {self.vardas} jam yra {self.amzius} metu ir jis sveria {self.svoris}'\n",
    "    \n"
   ]
  },
  {
   "cell_type": "code",
   "execution_count": 59,
   "metadata": {},
   "outputs": [
    {
     "name": "stdout",
     "output_type": "stream",
     "text": [
      "gyvūnas vardu: Grantas jam yra 4 metu ir jis sveria 17\n"
     ]
    }
   ],
   "source": [
    "gyvunas = Gyvunas('Grantas', 4, 17)\n",
    "print(gyvunas)"
   ]
  },
  {
   "cell_type": "code",
   "execution_count": 60,
   "metadata": {},
   "outputs": [
    {
     "name": "stdout",
     "output_type": "stream",
     "text": [
      "gyvūnas vardu: Grantas jam yra 4 metu ir jis sveria 19\n"
     ]
    }
   ],
   "source": [
    "gyvunas.padidinti_svori(2)\n",
    "print(gyvunas)"
   ]
  },
  {
   "cell_type": "code",
   "execution_count": 64,
   "metadata": {},
   "outputs": [
    {
     "name": "stdout",
     "output_type": "stream",
     "text": [
      "gyvūnas vardu: Grantas jam yra 6 metu ir jis sveria 19\n"
     ]
    }
   ],
   "source": [
    "gyvunas.padidejes_amzius()\n",
    "print(gyvunas)"
   ]
  },
  {
   "cell_type": "code",
   "execution_count": 68,
   "metadata": {},
   "outputs": [
    {
     "name": "stdout",
     "output_type": "stream",
     "text": [
      "gyvūnas vardu: Grantas jam yra 6 metu ir jis sveria 17\n"
     ]
    }
   ],
   "source": [
    "gyvunas.sumazinti_svori(3)\n",
    "print(gyvunas)"
   ]
  },
  {
   "attachments": {},
   "cell_type": "markdown",
   "metadata": {},
   "source": [
    "## Inkapsuliacija"
   ]
  },
  {
   "cell_type": "code",
   "execution_count": 96,
   "metadata": {},
   "outputs": [
    {
     "name": "stdout",
     "output_type": "stream",
     "text": [
      "100 EU buvo sekmingai pridėta į jūsų sąskaitą, dabartinis likutis 3770\n"
     ]
    }
   ],
   "source": [
    "class Bank:\n",
    "    def __init__(self, savininkas, saskaitos_numeris, balansas, pin_kodas):\n",
    "        self.saskaitos_numeris = saskaitos_numeris\n",
    "        self.savininkas = savininkas\n",
    "        self.__balansas = balansas\n",
    "        self.__pin_kodas = pin_kodas\n",
    "\n",
    "    def sumazinti(self, kiek, pin_kodas):\n",
    "        if pin_kodas == self.__pin_kodas:\n",
    "            self.__balansas -= kiek\n",
    "            print(f'{kiek} EU buvo sekmingai nuskaityta iš jūsų sąskaitos, dabartinis likutis {self.__balansas}')\n",
    "        else: print('Neteisingas pin kodas')\n",
    "\n",
    "    def papildyti(self, kiek, pin_kodas):\n",
    "        if pin_kodas == self.__pin_kodas:\n",
    "            self.__balansas += kiek\n",
    "            print(f'{kiek} EU buvo sekmingai pridėta į jūsų sąskaitą, dabartinis likutis {self.__balansas}')\n",
    "        else: print('Neteisingas pin kodas')\n",
    "\n",
    "saskaita = Bank('Arnas', 'LT123456789', 3670, 1234)\n",
    "\n",
    "saskaita.papildyti(100, 1234)\n",
    "        \n",
    "\n"
   ]
  },
  {
   "cell_type": "code",
   "execution_count": 91,
   "metadata": {},
   "outputs": [
    {
     "name": "stdout",
     "output_type": "stream",
     "text": [
      "100 € sėkmingai nuskaityta. Dabartinis saskaitos likutis: 900 €\n"
     ]
    }
   ],
   "source": [
    "class BankoSaskaita:\n",
    "    def __init__(self, saskaitos_numeris, savininkas, balansas, pin_kodas):\n",
    "        self.saskaitos_numeris = saskaitos_numeris\n",
    "        self.savininkas = savininkas\n",
    "        self.__balansas = balansas\n",
    "        self.__pin_kodas = pin_kodas\n",
    "\n",
    "    def nuskaityti(self, suma, pin_kodas):\n",
    "        if pin_kodas == self.__pin_kodas:\n",
    "            self.__balansas -= suma\n",
    "            print(f'{suma} € sėkmingai nuskaityta. Dabartinis saskaitos likutis: {self.__balansas} €')\n",
    "        else:\n",
    "            print('Neteisingas slaptažodis. Nuskaitymas negalimas.')\n",
    "\n",
    "    def papildyti(self, suma, pin_kodas):\n",
    "        if pin_kodas == self.__pin_kodas:\n",
    "            self.__balansas += suma\n",
    "            print(f'{suma} € sėkmingai papildyta. Dabartinis saskaitos likutis: {self.__balansas} €')\n",
    "        else:\n",
    "            print('Neteisingas slaptažodis. Papildymas negalimas.')\n",
    "\n",
    "saskaita = BankoSaskaita('LT123456789', 'Jonas Jonaitis', 1000, 1234)\n",
    "\n",
    "saskaita.nuskaityti(100, 1234)"
   ]
  },
  {
   "cell_type": "code",
   "execution_count": 113,
   "metadata": {},
   "outputs": [
    {
     "name": "stdout",
     "output_type": "stream",
     "text": [
      "infoHATA\n",
      "vidutine\n",
      "Python\n",
      "1772\n"
     ]
    }
   ],
   "source": [
    "class Knygos():\n",
    "    def __init__(self, pavadinimas, autorius, bukle, puslapiu_skaicius):\n",
    "        self.__pavadinimas = pavadinimas\n",
    "        self.__autorius = autorius\n",
    "        self.__bukle = bukle\n",
    "        self.__puslapiu_skaicius = puslapiu_skaicius\n",
    "\n",
    "    def gauti_pavadinima(self):\n",
    "        return self.__pavadinimas\n",
    "    \n",
    "    def gauti_autoriu(self):\n",
    "        return self.__autorius\n",
    "    \n",
    "    def gauti_bukle(self):\n",
    "        return self.__bukle\n",
    "    \n",
    "    def gauti_puslapiu_skaiciu(self):\n",
    "        return self.__puslapiu_skaicius\n",
    "    \n",
    "    def __nauja_bukle(self, bukle):\n",
    "        self.__bukle = bukle\n",
    "\n",
    "    def __naujas_puslapiu_skaicius(self, puslapiai):\n",
    "        self.__puslapiu_skaicius -= puslapiai\n",
    "\n",
    "    def pakeisti_bukle(self, bukle):\n",
    "        self.__nauja_bukle(bukle)\n",
    "\n",
    "    def pakeisti_puslapiu_skaiciu(self, puslapiai):\n",
    "        self.__naujas_puslapiu_skaicius(puslapiai)\n",
    "\n",
    "knyga = Knygos('Python', 'infoHATA', 'ideali', 1822)\n",
    "\n",
    "knyga.pakeisti_bukle('vidutine')\n",
    "knyga.pakeisti_puslapiu_skaiciu(50)\n",
    "print(knyga.gauti_autoriu())\n",
    "print(knyga.gauti_bukle())\n",
    "print(knyga.gauti_pavadinima())\n",
    "print(knyga.gauti_puslapiu_skaiciu())\n",
    "    \n",
    "\n"
   ]
  },
  {
   "attachments": {},
   "cell_type": "markdown",
   "metadata": {},
   "source": [
    "## Random"
   ]
  }
 ],
 "metadata": {
  "kernelspec": {
   "display_name": "venv",
   "language": "python",
   "name": "python3"
  },
  "language_info": {
   "codemirror_mode": {
    "name": "ipython",
    "version": 3
   },
   "file_extension": ".py",
   "mimetype": "text/x-python",
   "name": "python",
   "nbconvert_exporter": "python",
   "pygments_lexer": "ipython3",
   "version": "3.11.3"
  },
  "orig_nbformat": 4
 },
 "nbformat": 4,
 "nbformat_minor": 2
}
