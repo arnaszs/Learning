{
 "cells": [
  {
   "attachments": {},
   "cell_type": "markdown",
   "metadata": {},
   "source": [
    "## Pradzia"
   ]
  },
  {
   "cell_type": "code",
   "execution_count": 53,
   "metadata": {},
   "outputs": [
    {
     "name": "stdout",
     "output_type": "stream",
     "text": [
      "AS ESU STUDENTAS\n"
     ]
    }
   ],
   "source": [
    "pasisveikinimas = \"As esu studentas\"\n",
    "print(pasisveikinimas.upper())"
   ]
  },
  {
   "cell_type": "code",
   "execution_count": 54,
   "metadata": {},
   "outputs": [
    {
     "name": "stdout",
     "output_type": "stream",
     "text": [
      "as esu studentas\n"
     ]
    }
   ],
   "source": [
    "pasisveikinimas = \"As esu studentas\"\n",
    "print(pasisveikinimas.lower())"
   ]
  },
  {
   "cell_type": "code",
   "execution_count": 55,
   "metadata": {},
   "outputs": [
    {
     "name": "stdout",
     "output_type": "stream",
     "text": [
      "apelsinas, obuolys\n"
     ]
    }
   ],
   "source": [
    "vaisiai = (\"apelsinas\", \"obuolys\")\n",
    "isvardinti = \", \".join(vaisiai)\n",
    "print(isvardinti)"
   ]
  },
  {
   "cell_type": "code",
   "execution_count": 56,
   "metadata": {},
   "outputs": [
    {
     "name": "stdout",
     "output_type": "stream",
     "text": [
      "['As', 'esu', 'studentas']\n"
     ]
    }
   ],
   "source": [
    "pasisveikinimas = \"As esu studentas\"\n",
    "print(pasisveikinimas.split())\n"
   ]
  },
  {
   "cell_type": "code",
   "execution_count": 57,
   "metadata": {},
   "outputs": [
    {
     "name": "stdout",
     "output_type": "stream",
     "text": [
      "7\n"
     ]
    }
   ],
   "source": [
    "pasisveikinimas = \"As esu studentas\"\n",
    "print(pasisveikinimas.find('studentas'))"
   ]
  },
  {
   "cell_type": "code",
   "execution_count": 58,
   "metadata": {},
   "outputs": [
    {
     "name": "stdout",
     "output_type": "stream",
     "text": [
      "As busiu studentas\n"
     ]
    }
   ],
   "source": [
    "pasisveikinimas = \"As esu studentas\"\n",
    "print(pasisveikinimas.replace('esu', 'busiu'))"
   ]
  },
  {
   "attachments": {},
   "cell_type": "markdown",
   "metadata": {},
   "source": [
    "## Teksto formatavimas"
   ]
  },
  {
   "cell_type": "code",
   "execution_count": 59,
   "metadata": {},
   "outputs": [
    {
     "name": "stdout",
     "output_type": "stream",
     "text": [
      "Sveiki aš esu Arnas, man yra 21metai\n"
     ]
    }
   ],
   "source": [
    "vardas = \"Arnas\"\n",
    "amzius = 21\n",
    "tekstas = \"Sveiki aš \" \"esu \" \\\n",
    "    + vardas + \\\n",
    "    \", man yra \" + str(amzius) + 'metai'\n",
    "print(tekstas)"
   ]
  },
  {
   "cell_type": "code",
   "execution_count": 60,
   "metadata": {},
   "outputs": [
    {
     "name": "stdout",
     "output_type": "stream",
     "text": [
      "Sveiki, as esu Arnas ir man yra 21 metu\n"
     ]
    }
   ],
   "source": [
    "vardas = \"Arnas\"\n",
    "amzius = 21\n",
    "tekstas = \"Sveiki, as esu %s ir man yra %d metu\" % (vardas, amzius)\n",
    "print(tekstas)"
   ]
  },
  {
   "cell_type": "code",
   "execution_count": 61,
   "metadata": {},
   "outputs": [
    {
     "name": "stdout",
     "output_type": "stream",
     "text": [
      "Sveiki, aš esu Arnas, man yra 21 metų\n"
     ]
    }
   ],
   "source": [
    "tekstas = \"Sveiki, aš esu {}, man yra {} metų\".format(vardas, amzius)\n",
    "print(tekstas)"
   ]
  },
  {
   "cell_type": "code",
   "execution_count": 62,
   "metadata": {},
   "outputs": [
    {
     "name": "stdout",
     "output_type": "stream",
     "text": [
      "sveiki, as esu Arnas, man yra 21 metu\n"
     ]
    }
   ],
   "source": [
    "tekstas = f\"sveiki, as esu {vardas}, man yra {amzius} metu\"\n",
    "print(tekstas)"
   ]
  },
  {
   "cell_type": "code",
   "execution_count": 63,
   "metadata": {},
   "outputs": [
    {
     "name": "stdout",
     "output_type": "stream",
     "text": [
      "kaina: 99.95\n"
     ]
    }
   ],
   "source": [
    "kaina = 99.9455\n",
    "print(f\"kaina: {kaina:.2f}\")"
   ]
  },
  {
   "cell_type": "code",
   "execution_count": 64,
   "metadata": {},
   "outputs": [
    {
     "name": "stdout",
     "output_type": "stream",
     "text": [
      "kaina: 0000000100\n",
      "kaina:        100\n",
      "kaina: 100\n"
     ]
    }
   ],
   "source": [
    "print(f\"kaina: {kaina:010.0f}\")\n",
    "print(f\"kaina: {kaina:10.0f}\")\n",
    "print(f\"kaina: {kaina:0.0f}\")"
   ]
  },
  {
   "attachments": {},
   "cell_type": "markdown",
   "metadata": {},
   "source": [
    "## uzduotis sarasai"
   ]
  },
  {
   "cell_type": "code",
   "execution_count": 65,
   "metadata": {},
   "outputs": [
    {
     "name": "stdout",
     "output_type": "stream",
     "text": [
      "guliasas\n"
     ]
    }
   ],
   "source": [
    "sarasas = [\"pica\", \"obuolys\", \"burgeris\", \"kotletas\", \"makaronai\", \"guliasas\"]\n",
    "print(sarasas[-1])"
   ]
  },
  {
   "cell_type": "code",
   "execution_count": 66,
   "metadata": {},
   "outputs": [
    {
     "name": "stdout",
     "output_type": "stream",
     "text": [
      "['pica', 'obuolys', 'burgeris']\n",
      "['makaronai', 'guliasas']\n",
      "['obuolys', 'burgeris', 'kotletas']\n",
      "['pica', 'burgeris', 'makaronai']\n"
     ]
    }
   ],
   "source": [
    "print(sarasas[:3])\n",
    "print(sarasas[-2:])\n",
    "print(sarasas[1:4])\n",
    "print(sarasas[::2])"
   ]
  },
  {
   "cell_type": "code",
   "execution_count": 70,
   "metadata": {},
   "outputs": [],
   "source": [
    "sarasas.append(\"suris\")"
   ]
  },
  {
   "cell_type": "code",
   "execution_count": 68,
   "metadata": {},
   "outputs": [
    {
     "name": "stdout",
     "output_type": "stream",
     "text": [
      "['pica', 'obuolys', 'burgeris', 'kotletas', 'makaronai', 'guliasas', 'g', 'u', 'l', 'i', 'a', 's', 'a', 's', 's']\n"
     ]
    }
   ],
   "source": [
    "print(sarasas)"
   ]
  },
  {
   "cell_type": "code",
   "execution_count": 69,
   "metadata": {},
   "outputs": [
    {
     "ename": "ValueError",
     "evalue": "list.remove(x): x not in list",
     "output_type": "error",
     "traceback": [
      "\u001b[1;31m---------------------------------------------------------------------------\u001b[0m",
      "\u001b[1;31mValueError\u001b[0m                                Traceback (most recent call last)",
      "Cell \u001b[1;32mIn[69], line 1\u001b[0m\n\u001b[1;32m----> 1\u001b[0m sarasas\u001b[39m.\u001b[39;49mremove(\u001b[39m'\u001b[39;49m\u001b[39msultys\u001b[39;49m\u001b[39m'\u001b[39;49m)\n\u001b[0;32m      2\u001b[0m \u001b[39mprint\u001b[39m(sarasas)\n",
      "\u001b[1;31mValueError\u001b[0m: list.remove(x): x not in list"
     ]
    }
   ],
   "source": [
    "sarasas.remove('sultys')\n",
    "print(sarasas)"
   ]
  },
  {
   "cell_type": "code",
   "execution_count": null,
   "metadata": {},
   "outputs": [
    {
     "name": "stdout",
     "output_type": "stream",
     "text": [
      "4\n"
     ]
    }
   ],
   "source": [
    "kur_makaronai = sarasas.index(\"makaronai\")\n",
    "print(kur_makaronai)"
   ]
  },
  {
   "cell_type": "code",
   "execution_count": null,
   "metadata": {},
   "outputs": [
    {
     "name": "stdout",
     "output_type": "stream",
     "text": [
      "['s', 's', 'a', 's', 'a', 'i', 'l', 'u', 'g', 's', 's', 'a', 's', 'a', 'i', 'l', 'u', 'g', 'guliasas', 'makaronai', 'kotletas', 'sultys', 'burgeris', 'obuolys']\n"
     ]
    }
   ],
   "source": [
    "sarasas.reverse()\n",
    "print(sarasas)"
   ]
  },
  {
   "cell_type": "code",
   "execution_count": null,
   "metadata": {},
   "outputs": [
    {
     "name": "stdout",
     "output_type": "stream",
     "text": [
      "24\n"
     ]
    }
   ],
   "source": [
    "print(len(sarasas))"
   ]
  },
  {
   "cell_type": "code",
   "execution_count": null,
   "metadata": {},
   "outputs": [
    {
     "name": "stdout",
     "output_type": "stream",
     "text": [
      "False\n"
     ]
    }
   ],
   "source": [
    "print(\"apelsinas\" in sarasas)"
   ]
  },
  {
   "attachments": {},
   "cell_type": "markdown",
   "metadata": {},
   "source": [
    "## Zodynai"
   ]
  },
  {
   "cell_type": "code",
   "execution_count": 73,
   "metadata": {},
   "outputs": [
    {
     "name": "stdout",
     "output_type": "stream",
     "text": [
      "{'Reksas': 4, 'Bingo': 5, 'Grantas': 1}\n"
     ]
    }
   ],
   "source": [
    "zodynas = {'Reksas': 4, 'Bingo': 5, 'Grantas': 1}\n",
    "print(zodynas)"
   ]
  },
  {
   "cell_type": "code",
   "execution_count": 74,
   "metadata": {},
   "outputs": [
    {
     "name": "stdout",
     "output_type": "stream",
     "text": [
      "5\n"
     ]
    }
   ],
   "source": [
    "print(zodynas['Bingo'])"
   ]
  },
  {
   "cell_type": "code",
   "execution_count": 75,
   "metadata": {},
   "outputs": [
    {
     "name": "stdout",
     "output_type": "stream",
     "text": [
      "{'Reksas': 4, 'Bingo': 5, 'Grantas': 1, 'Sniegius': 2}\n"
     ]
    }
   ],
   "source": [
    "zodynas['Sniegius'] = 2\n",
    "print(zodynas)"
   ]
  },
  {
   "cell_type": "code",
   "execution_count": 76,
   "metadata": {},
   "outputs": [
    {
     "name": "stdout",
     "output_type": "stream",
     "text": [
      "{'Reksas': 4, 'Bingo': 4, 'Grantas': 1, 'Sniegius': 2}\n"
     ]
    }
   ],
   "source": [
    "zodynas['Bingo'] = 4\n",
    "print(zodynas)"
   ]
  },
  {
   "cell_type": "code",
   "execution_count": 77,
   "metadata": {},
   "outputs": [
    {
     "name": "stdout",
     "output_type": "stream",
     "text": [
      "{'Bingo': 4, 'Grantas': 1, 'Sniegius': 2}\n"
     ]
    }
   ],
   "source": [
    "del zodynas['Reksas']\n",
    "print(zodynas)"
   ]
  },
  {
   "cell_type": "code",
   "execution_count": 84,
   "metadata": {},
   "outputs": [
    {
     "name": "stdout",
     "output_type": "stream",
     "text": [
      "dict_keys(['Bingo', 'Grantas', 'Sniegius'])\n",
      "dict_values([4, 1, 2])\n"
     ]
    }
   ],
   "source": [
    "vardai = zodynas.keys()\n",
    "print(vardai)\n",
    "amzius = zodynas.values()\n",
    "print(amzius)"
   ]
  },
  {
   "cell_type": "code",
   "execution_count": 86,
   "metadata": {},
   "outputs": [
    {
     "name": "stdout",
     "output_type": "stream",
     "text": [
      "dict_items([('Bingo', 4), ('Grantas', 1), ('Sniegius', 2)])\n",
      "1\n"
     ]
    }
   ],
   "source": [
    "augintiniu_sarasas = zodynas.items()\n",
    "print(augintiniu_sarasas)\n",
    "suo = zodynas.get('Grantas')\n",
    "print(suo)"
   ]
  },
  {
   "attachments": {},
   "cell_type": "markdown",
   "metadata": {},
   "source": [
    "## For ciklai\n"
   ]
  },
  {
   "cell_type": "code",
   "execution_count": 6,
   "metadata": {},
   "outputs": [
    {
     "name": "stdout",
     "output_type": "stream",
     "text": [
      "A\n",
      "B\n",
      "C\n",
      "D\n",
      "E\n",
      "F\n"
     ]
    }
   ],
   "source": [
    "sarasas = list('ABCDEF')\n",
    "for raide in sarasas:\n",
    "    print(raide)"
   ]
  },
  {
   "cell_type": "code",
   "execution_count": 11,
   "metadata": {},
   "outputs": [
    {
     "name": "stdout",
     "output_type": "stream",
     "text": [
      "1: , simbolių kiekis: 0\n",
      "2: , simbolių kiekis: 0\n",
      "3: , simbolių kiekis: 0\n",
      "4: , simbolių kiekis: 0\n",
      "5: , simbolių kiekis: 0\n",
      "Žodžių kiekis: 5\n"
     ]
    }
   ],
   "source": [
    "zodziai = []\n",
    "\n",
    "for zodis in range(5):\n",
    "    zodziai.append(input('Įveskite žodį: '))\n",
    "\n",
    "for numeris, zodis in enumerate(zodziai):\n",
    "    print(f'{numeris + 1}: {zodis}, simbolių kiekis: {len(zodis)}')\n",
    "print('Žodžių kiekis:', len(zodziai))"
   ]
  },
  {
   "cell_type": "code",
   "execution_count": 12,
   "metadata": {},
   "outputs": [
    {
     "name": "stdout",
     "output_type": "stream",
     "text": [
      "Keliamieji metai\n"
     ]
    }
   ],
   "source": [
    "metai = int(input('Įveskite metus: '))\n",
    "if (metai % 400 == 0) or (metai % 100 != 0 and metai % 4 == 0):\n",
    "    print('Keliamieji metai')\n",
    "else:\n",
    "    print('Nekeliamieji metai')"
   ]
  },
  {
   "cell_type": "code",
   "execution_count": 13,
   "metadata": {},
   "outputs": [
    {
     "name": "stdout",
     "output_type": "stream",
     "text": [
      "2000\n",
      "2004\n",
      "2008\n",
      "2012\n",
      "2016\n",
      "2020\n",
      "2024\n",
      "2028\n",
      "2032\n",
      "2036\n",
      "2040\n",
      "2044\n",
      "2048\n",
      "2052\n",
      "2056\n",
      "2060\n",
      "2064\n",
      "2068\n",
      "2072\n",
      "2076\n",
      "2080\n",
      "2084\n",
      "2088\n",
      "2092\n",
      "2096\n"
     ]
    }
   ],
   "source": [
    "for metai in range(2000, 2100):\n",
    "    if metai % 400 == 0:\n",
    "        print(metai)\n",
    "    elif metai % 100 == 0:\n",
    "        continue\n",
    "    elif metai % 4 == 0:\n",
    "        print(metai)\n",
    "    else:\n",
    "        continue"
   ]
  },
  {
   "cell_type": "markdown",
   "metadata": {},
   "source": []
  },
  {
   "attachments": {},
   "cell_type": "markdown",
   "metadata": {},
   "source": [
    "## While ciklai"
   ]
  },
  {
   "cell_type": "code",
   "execution_count": 26,
   "metadata": {},
   "outputs": [
    {
     "name": "stdout",
     "output_type": "stream",
     "text": [
      "10\n",
      "9\n",
      "8\n",
      "7\n",
      "6\n",
      "5\n",
      "4\n",
      "3\n",
      "2\n",
      "1\n",
      "0\n",
      "-1\n"
     ]
    }
   ],
   "source": [
    "skaicius = 10\n",
    "while skaicius >= -1:\n",
    "    print(skaicius)\n",
    "    skaicius -=1"
   ]
  },
  {
   "cell_type": "code",
   "execution_count": 32,
   "metadata": {},
   "outputs": [
    {
     "name": "stdout",
     "output_type": "stream",
     "text": [
      "4\n",
      "3\n",
      "2\n",
      "1\n",
      "Pratęsiam ciklą nes yra skaičius 0\n",
      "-1\n",
      "-2\n",
      "-3\n",
      "-4\n",
      "Sustabdom ciklą nes yra skaičius -5\n"
     ]
    }
   ],
   "source": [
    "skaicius = 5\n",
    "while skaicius >= -10:\n",
    "    skaicius -= 1\n",
    "    if skaicius == -5:\n",
    "        print('Sustabdom ciklą nes yra skaičius -5')\n",
    "        break\n",
    "    elif skaicius == 0:\n",
    "        print('Pratęsiam ciklą nes yra skaičius 0')\n",
    "        continue\n",
    "    print(skaicius)"
   ]
  },
  {
   "cell_type": "code",
   "execution_count": 29,
   "metadata": {
    "tags": []
   },
   "outputs": [
    {
     "name": "stdout",
     "output_type": "stream",
     "text": [
      "2\n",
      "7\n",
      "14\n",
      "16\n"
     ]
    },
    {
     "ename": "ValueError",
     "evalue": "invalid literal for int() with base 10: ''",
     "output_type": "error",
     "traceback": [
      "\u001b[1;31m---------------------------------------------------------------------------\u001b[0m",
      "\u001b[1;31mValueError\u001b[0m                                Traceback (most recent call last)",
      "Cell \u001b[1;32mIn[29], line 4\u001b[0m\n\u001b[0;32m      1\u001b[0m skaiciai \u001b[39m=\u001b[39m \u001b[39m0\u001b[39m\n\u001b[0;32m      3\u001b[0m \u001b[39mwhile\u001b[39;00m \u001b[39mTrue\u001b[39;00m:\n\u001b[1;32m----> 4\u001b[0m     skaicius \u001b[39m=\u001b[39m \u001b[39mint\u001b[39;49m(\u001b[39minput\u001b[39;49m(\u001b[39m'\u001b[39;49m\u001b[39mĮveskite skaičių: \u001b[39;49m\u001b[39m'\u001b[39;49m))\n\u001b[0;32m      5\u001b[0m     \u001b[39mif\u001b[39;00m skaicius \u001b[39m<\u001b[39m \u001b[39m0\u001b[39m:\n\u001b[0;32m      6\u001b[0m         \u001b[39mbreak\u001b[39;00m\n",
      "\u001b[1;31mValueError\u001b[0m: invalid literal for int() with base 10: ''"
     ]
    }
   ],
   "source": [
    "skaiciai = 0\n",
    "\n",
    "while True:\n",
    "    skaicius = int(input('Įveskite skaičių: '))\n",
    "    if skaicius < 0:\n",
    "        break\n",
    "    skaiciai += skaicius\n",
    "    print(skaiciai)\n"
   ]
  },
  {
   "attachments": {},
   "cell_type": "markdown",
   "metadata": {},
   "source": [
    "## Tuples\n"
   ]
  },
  {
   "cell_type": "code",
   "execution_count": 36,
   "metadata": {},
   "outputs": [
    {
     "name": "stdout",
     "output_type": "stream",
     "text": [
      "('ACDC', 'Capaldi', 'chop suey', 'rammstein')\n"
     ]
    }
   ],
   "source": [
    "tuples = ('ACDC', 'Capaldi', 'chop suey', 'rammstein')\n",
    "print(tuples)"
   ]
  },
  {
   "cell_type": "code",
   "execution_count": 37,
   "metadata": {},
   "outputs": [
    {
     "name": "stdout",
     "output_type": "stream",
     "text": [
      "('ACDC', 'Capaldi', 'chop suey', 'rammstein', 'Eminem', '50 Cent', 'Jean Marc')\n"
     ]
    }
   ],
   "source": [
    "tuples2 = ('Eminem', '50 Cent', 'Jean Marc')\n",
    "grupes = tuples + tuples2\n",
    "print(grupes)"
   ]
  },
  {
   "cell_type": "code",
   "execution_count": 40,
   "metadata": {},
   "outputs": [
    {
     "name": "stdout",
     "output_type": "stream",
     "text": [
      "ACDC\n",
      "chop suey\n",
      "Jean Marc\n"
     ]
    }
   ],
   "source": [
    "print(grupes[0])\n",
    "print(grupes[2])\n",
    "print(grupes[-1])"
   ]
  },
  {
   "cell_type": "code",
   "execution_count": 42,
   "metadata": {},
   "outputs": [
    {
     "name": "stdout",
     "output_type": "stream",
     "text": [
      "('ACDC', 'chop suey', 'Eminem', 'Jean Marc')\n"
     ]
    }
   ],
   "source": [
    "print(grupes[::2])"
   ]
  },
  {
   "cell_type": "code",
   "execution_count": 46,
   "metadata": {},
   "outputs": [
    {
     "name": "stdout",
     "output_type": "stream",
     "text": [
      "1\n",
      "0\n"
     ]
    }
   ],
   "source": [
    "print(grupes.count('Eminem'))\n",
    "indeksas = grupes.index('ACDC')\n",
    "print(indeksas)"
   ]
  },
  {
   "cell_type": "code",
   "execution_count": 47,
   "metadata": {},
   "outputs": [
    {
     "name": "stdout",
     "output_type": "stream",
     "text": [
      "False\n"
     ]
    }
   ],
   "source": [
    "print('Cooper' in grupes)"
   ]
  },
  {
   "cell_type": "code",
   "execution_count": 48,
   "metadata": {},
   "outputs": [
    {
     "name": "stdout",
     "output_type": "stream",
     "text": [
      "Eminem\n",
      "Capaldi\n",
      "rammstein\n",
      "ACDC\n",
      "50 Cent\n",
      "Jean Marc\n",
      "chop suey\n"
     ]
    }
   ],
   "source": [
    "bonus = tuple(set(grupes))\n",
    "\n",
    "for grupe in bonus:\n",
    "    print(grupe)"
   ]
  }
 ],
 "metadata": {
  "kernelspec": {
   "display_name": "venv",
   "language": "python",
   "name": "python3"
  },
  "language_info": {
   "codemirror_mode": {
    "name": "ipython",
    "version": 3
   },
   "file_extension": ".py",
   "mimetype": "text/x-python",
   "name": "python",
   "nbconvert_exporter": "python",
   "pygments_lexer": "ipython3",
   "version": "3.11.3"
  },
  "orig_nbformat": 4
 },
 "nbformat": 4,
 "nbformat_minor": 2
}
