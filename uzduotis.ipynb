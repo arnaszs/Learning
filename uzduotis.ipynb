{
 "cells": [
  {
   "cell_type": "code",
   "execution_count": 1,
   "metadata": {},
   "outputs": [
    {
     "name": "stdout",
     "output_type": "stream",
     "text": [
      "AS ESU STUDENTAS\n"
     ]
    }
   ],
   "source": [
    "pasisveikinimas = \"As esu studentas\"\n",
    "print(pasisveikinimas.upper())"
   ]
  },
  {
   "cell_type": "code",
   "execution_count": 2,
   "metadata": {},
   "outputs": [
    {
     "name": "stdout",
     "output_type": "stream",
     "text": [
      "as esu studentas\n"
     ]
    }
   ],
   "source": [
    "pasisveikinimas = \"As esu studentas\"\n",
    "print(pasisveikinimas.lower())"
   ]
  },
  {
   "cell_type": "code",
   "execution_count": 3,
   "metadata": {},
   "outputs": [
    {
     "name": "stdout",
     "output_type": "stream",
     "text": [
      "apelsinas, obuolys\n"
     ]
    }
   ],
   "source": [
    "vaisiai = (\"apelsinas\", \"obuolys\")\n",
    "isvardinti = \", \".join(vaisiai)\n",
    "print(isvardinti)"
   ]
  },
  {
   "cell_type": "code",
   "execution_count": 4,
   "metadata": {},
   "outputs": [
    {
     "name": "stdout",
     "output_type": "stream",
     "text": [
      "['As', 'esu', 'studentas']\n"
     ]
    }
   ],
   "source": [
    "pasisveikinimas = \"As esu studentas\"\n",
    "print(pasisveikinimas.split())\n"
   ]
  },
  {
   "cell_type": "code",
   "execution_count": 6,
   "metadata": {},
   "outputs": [
    {
     "name": "stdout",
     "output_type": "stream",
     "text": [
      "7\n"
     ]
    }
   ],
   "source": [
    "pasisveikinimas = \"As esu studentas\"\n",
    "print(pasisveikinimas.find('studentas'))"
   ]
  },
  {
   "cell_type": "code",
   "execution_count": 7,
   "metadata": {},
   "outputs": [
    {
     "name": "stdout",
     "output_type": "stream",
     "text": [
      "As busiu studentas\n"
     ]
    }
   ],
   "source": [
    "pasisveikinimas = \"As esu studentas\"\n",
    "print(pasisveikinimas.replace('esu', 'busiu'))"
   ]
  },
  {
   "attachments": {},
   "cell_type": "markdown",
   "metadata": {},
   "source": [
    "## Teksto formatavimas"
   ]
  },
  {
   "cell_type": "code",
   "execution_count": 12,
   "metadata": {},
   "outputs": [
    {
     "name": "stdout",
     "output_type": "stream",
     "text": [
      "Sveiki aš esu Arnas, man yra 21metai\n"
     ]
    }
   ],
   "source": [
    "vardas = \"Arnas\"\n",
    "amzius = 21\n",
    "tekstas = \"Sveiki aš \" \"esu \" \\\n",
    "    + vardas + \\\n",
    "    \", man yra \" + str(amzius) + 'metai'\n",
    "print(tekstas)"
   ]
  },
  {
   "cell_type": "code",
   "execution_count": 17,
   "metadata": {},
   "outputs": [
    {
     "name": "stdout",
     "output_type": "stream",
     "text": [
      "Sveiki, as esu Arnas ir man yra 21 metu\n"
     ]
    }
   ],
   "source": [
    "vardas = \"Arnas\"\n",
    "amzius = 21\n",
    "tekstas = \"Sveiki, as esu %s ir man yra %d metu\" % (vardas, amzius)\n",
    "print(tekstas)"
   ]
  },
  {
   "cell_type": "code",
   "execution_count": 16,
   "metadata": {},
   "outputs": [
    {
     "name": "stdout",
     "output_type": "stream",
     "text": [
      "Sveiki, aš esu Arnas, man yra 21 metų\n"
     ]
    }
   ],
   "source": [
    "tekstas = \"Sveiki, aš esu {}, man yra {} metų\".format(vardas, amzius)\n",
    "print(tekstas)"
   ]
  },
  {
   "cell_type": "code",
   "execution_count": 18,
   "metadata": {},
   "outputs": [
    {
     "name": "stdout",
     "output_type": "stream",
     "text": [
      "sveiki, as esu Arnas, man yra 21 metu\n"
     ]
    }
   ],
   "source": [
    "tekstas = f\"sveiki, as esu {vardas}, man yra {amzius} metu\"\n",
    "print(tekstas)"
   ]
  },
  {
   "cell_type": "code",
   "execution_count": 21,
   "metadata": {},
   "outputs": [
    {
     "name": "stdout",
     "output_type": "stream",
     "text": [
      "kaina: 99.95\n"
     ]
    }
   ],
   "source": [
    "kaina = 99.9455\n",
    "print(f\"kaina: {kaina:.2f}\")"
   ]
  },
  {
   "cell_type": "code",
   "execution_count": 25,
   "metadata": {},
   "outputs": [
    {
     "name": "stdout",
     "output_type": "stream",
     "text": [
      "kaina: 0000000100\n",
      "kaina:        100\n",
      "kaina: 100\n"
     ]
    }
   ],
   "source": [
    "print(f\"kaina: {kaina:010.0f}\")\n",
    "print(f\"kaina: {kaina:10.0f}\")\n",
    "print(f\"kaina: {kaina:0.0f}\")"
   ]
  },
  {
   "cell_type": "code",
   "execution_count": null,
   "metadata": {},
   "outputs": [],
   "source": []
  }
 ],
 "metadata": {
  "kernelspec": {
   "display_name": "venv",
   "language": "python",
   "name": "python3"
  },
  "language_info": {
   "codemirror_mode": {
    "name": "ipython",
    "version": 3
   },
   "file_extension": ".py",
   "mimetype": "text/x-python",
   "name": "python",
   "nbconvert_exporter": "python",
   "pygments_lexer": "ipython3",
   "version": "3.11.3"
  },
  "orig_nbformat": 4
 },
 "nbformat": 4,
 "nbformat_minor": 2
}
