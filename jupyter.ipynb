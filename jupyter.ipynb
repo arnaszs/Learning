{
 "cells": [
  {
   "cell_type": "code",
   "execution_count": 3,
   "metadata": {},
   "outputs": [
    {
     "name": "stdout",
     "output_type": "stream",
     "text": [
      "labas\n"
     ]
    }
   ],
   "source": [
    "print(\"labas\")"
   ]
  },
  {
   "cell_type": "code",
   "execution_count": 4,
   "metadata": {},
   "outputs": [
    {
     "name": "stdout",
     "output_type": "stream",
     "text": [
      "SVEIKI MOKYTOJAU!\n"
     ]
    }
   ],
   "source": [
    "sakinys = \"Sveiki mokytojau!\"\n",
    "sakinys_didziosiom = sakinys.upper()\n",
    "print(sakinys_didziosiom)"
   ]
  },
  {
   "cell_type": "code",
   "execution_count": 5,
   "metadata": {},
   "outputs": [
    {
     "name": "stdout",
     "output_type": "stream",
     "text": [
      "sveiki mokytojau!\n"
     ]
    }
   ],
   "source": [
    "sakinys = \"Sveiki mokytojau!\"\n",
    "sakinys_mazosiom = sakinys.lower()\n",
    "print(sakinys_mazosiom)"
   ]
  },
  {
   "cell_type": "code",
   "execution_count": 6,
   "metadata": {},
   "outputs": [
    {
     "name": "stdout",
     "output_type": "stream",
     "text": [
      "7\n"
     ]
    }
   ],
   "source": [
    "print(sakinys.find('moky'))"
   ]
  },
  {
   "cell_type": "code",
   "execution_count": 7,
   "metadata": {},
   "outputs": [
    {
     "name": "stdout",
     "output_type": "stream",
     "text": [
      "Hello mokytojau!\n"
     ]
    }
   ],
   "source": [
    "pakeistas = sakinys.replace('Sveiki', 'Hello')\n",
    "print(pakeistas)"
   ]
  },
  {
   "cell_type": "code",
   "execution_count": 8,
   "metadata": {},
   "outputs": [
    {
     "name": "stdout",
     "output_type": "stream",
     "text": [
      "Obuolys, Kriaušė, Apelsinas\n"
     ]
    }
   ],
   "source": [
    "vaisiai = ('Obuolys', 'Kriaušė', 'Apelsinas')\n",
    "isvardinti_vaisiai = \", \".join(vaisiai)\n",
    "print(isvardinti_vaisiai)"
   ]
  },
  {
   "cell_type": "code",
   "execution_count": 9,
   "metadata": {},
   "outputs": [
    {
     "name": "stdout",
     "output_type": "stream",
     "text": [
      "['Sveiki', 'mokytojau!']\n"
     ]
    }
   ],
   "source": [
    "print(sakinys.split(    ))"
   ]
  },
  {
   "cell_type": "code",
   "execution_count": 12,
   "metadata": {},
   "outputs": [
    {
     "name": "stdout",
     "output_type": "stream",
     "text": [
      "Obuolys, kriause, bananas; Obuolys, kriause, bananas\n"
     ]
    }
   ],
   "source": [
    "print(\"Obuolys\", \"kriause\", \"bananas\", sep=\", \", end=\"; \")\n",
    "print(\"Obuolys\", \"kriause\", \"bananas\", sep=\", \")"
   ]
  }
 ],
 "metadata": {
  "kernelspec": {
   "display_name": "venv",
   "language": "python",
   "name": "python3"
  },
  "language_info": {
   "codemirror_mode": {
    "name": "ipython",
    "version": 3
   },
   "file_extension": ".py",
   "mimetype": "text/x-python",
   "name": "python",
   "nbconvert_exporter": "python",
   "pygments_lexer": "ipython3",
   "version": "3.11.3"
  },
  "orig_nbformat": 4
 },
 "nbformat": 4,
 "nbformat_minor": 2
}
